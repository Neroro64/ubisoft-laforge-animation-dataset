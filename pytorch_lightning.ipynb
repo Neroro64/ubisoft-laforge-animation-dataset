{
 "cells": [
  {
   "cell_type": "code",
   "execution_count": 1,
   "metadata": {},
   "outputs": [
    {
     "name": "stderr",
     "output_type": "stream",
     "text": [
      "/opt/miniconda3/lib/python3.9/site-packages/torchvision/io/image.py:13: UserWarning: Failed to load image Python extension: libtorch_cuda_cu.so: cannot open shared object file: No such file or directory\n",
      "  warn(f\"Failed to load image Python extension: {e}\")\n"
     ]
    }
   ],
   "source": [
    "# Scienctic computing \n",
    "import numpy as np\n",
    "import pandas as pd\n",
    "\n",
    "# Pytorch\n",
    "import torch\n",
    "from torch import Tensor\n",
    "\n",
    "#Pytorch Lightning\n",
    "import pytorch_lightning\n",
    "from pytorch_lightning.callbacks import ModelCheckpoint, EarlyStopping\n",
    "from pytorch_lightning.loggers import TensorBoardLogger\n",
    "\n",
    "# Python libraries\n",
    "import _pickle as pkl\n",
    "import bz2\n",
    "import warnings\n",
    "import re\n",
    "from typing import List\n",
    "from collections import OrderedDict\n",
    "\n",
    "# Laforge animation dataset\n",
    "from lafan1.extract import Anim\n",
    "\n",
    "# Plotting\n",
    "import plotly.express as ex\n",
    "import plotly.graph_objects as go\n",
    "\n",
    "# Local scripts\n",
    "from src.prepare_data import DataPreprocess"
   ]
  },
  {
   "cell_type": "code",
   "execution_count": 2,
   "metadata": {},
   "outputs": [],
   "source": [
    "DATA_DIR = \"data\"\n",
    "MOTION_ZIP = \"lafan1/lafan1.zip\"\n",
    "DATASET_DIR = \"dataset\"\n",
    "MODEL_DIR = \"model\"\n",
    "FRAME_TIME = 0.03333\n",
    "FRAMES = 7840"
   ]
  },
  {
   "cell_type": "code",
   "execution_count": 3,
   "metadata": {},
   "outputs": [],
   "source": [
    "def validate_config(config:dict=None) -> None:\n",
    "    '''\n",
    "    Validate that the model config contains necessary parameters of right type.\n",
    "\n",
    "    Parameters:\n",
    "        config (dict): a dictionary containing the configuration of NN model.\n",
    "    Returns:\n",
    "        None\n",
    "    '''\n",
    "    model_config_template = {\n",
    "        \"input_dim\" : int,      # Required\n",
    "        \"output_dim\" : int,     # Required\n",
    "        \"hidden_dim\" : int,     # Required\n",
    "        \"dropout\" : 0.2,\n",
    "        \"optimizer\" : torch.optim.AdamW,\n",
    "        \"loss_fn\" : torch.nn.functional.mse_loss,\n",
    "        \"scheduler\" : torch.optim.lr_scheduler.StepLR,\n",
    "        \"scheduler_params\" : (10, 0.95),    # decay with 95% every 10 epochs\n",
    "        \"batch_size\" : 16,\n",
    "        \"learning_rate\" : 1e-3,\n",
    "        \"num_workers\" : os.cpu_count(),\n",
    "        \"checkpoint_save_period\" : 10, # saves a checkpoint every 10 epochs if it's better than prev checkpoint\n",
    "        \"model_dir\" : MODEL_DIR,\n",
    "        \"device\" : \"cuda\" if torch.cuda.is_available() else \"cpu\", \n",
    "\n",
    "    }\n",
    "    \n",
    "    required_parameters = [\"input_dim\", \"output_dim\", \"hidden_dim\"]\n",
    "    if config is None or sum([param in config for param in required_parameters]) != len(required_parameters):\n",
    "        raise ValueError(\"\"\"\n",
    "        Model config is not provided or not valid.\n",
    "        Please provide a dictionary with at least the following three parameters:\n",
    "        {\n",
    "            'input_dim' : int,\n",
    "            'output_dim' : int,\n",
    "            'hidden_dim' : int,\n",
    "        }\n",
    "        \"\"\")\n",
    "    \n",
    "    for k,v in model_config_template.items():\n",
    "        if isinstance(v, type):\n",
    "            if not isinstance(config[k], v):\n",
    "                warnings.warn(\"Received {} of type {} should be {}\".format(k, type(config[k]), v))\n",
    "        config.setdefault(k, v)\n",
    "\n",
    "def read_pbz2(filename:str) -> Anim:\n",
    "    with bz2.BZ2File(filename, 'rb') as f:\n",
    "        anim = pkl.load(f)\n",
    "    return anim \n",
    "    "
   ]
  },
  {
   "cell_type": "code",
   "execution_count": 4,
   "metadata": {},
   "outputs": [],
   "source": [
    "class MLP_Lightning(pytorch_lightning.LightningModule):\n",
    "    def __init__(self, config:dict, train_set:List[tuple]=None, test_set:List[tuple]=None, val_set:List[tuple]=None):\n",
    "        validate_config(config)\n",
    "        super(MLP_Lightning, self).__init__()\n",
    "        \n",
    "        self.config = config\n",
    "        self.train_set = train_set\n",
    "        self.test_set = test_set\n",
    "        self.val_set = val_set if val_set is not None else test_set\n",
    "        self.best_val_loss = np.inf # for monitoring validation error during training \n",
    "\n",
    "        self.module = torch.nn.Sequential(  # ReLu and Dropout are applied as layers \n",
    "            OrderedDict([\n",
    "                ('input', torch.nn.Linear(config[\"input_dim\"], config[\"hidden_dim\"])),\n",
    "                ('relu1', torch.nn.ReLU()),\n",
    "                ('dropout1', torch.nn.Dropout(p=config[\"dropout\"])),\n",
    "                ('hidden', torch.nn.Linear(config[\"hidden_dim\"], config[\"hidden_dim\"])),\n",
    "                ('relu2', torch.nn.ReLU()),\n",
    "                ('dropout2', torch.nn.Dropout(p=config[\"dropout\"])),\n",
    "                ('output', torch.nn.Linear(config[\"hidden_dim\"], config[\"output_dim\"])),\n",
    "          ])\n",
    "        )\n",
    "        self.init_params()\n",
    "        self.module.to(config[\"device\"])\n",
    "\n",
    "    ####################################\n",
    "    # Essential functions\n",
    "    ####################################\n",
    "    \n",
    "    def init_params(self):\n",
    "        for layer in self.module.modules():\n",
    "            if isinstance(layer, torch.nn.Linear):\n",
    "                torch.nn.init.xavier_uniform_(layer.weight)\n",
    "                layer.bias.data.fill_(.001)\n",
    "\n",
    "    def forward(self, x:Tensor) -> Tensor:\n",
    "        return self.module(x)\n",
    "    \n",
    "    def loss(self, x, y):\n",
    "        return self.config[\"loss_fn\"](x,y)\n",
    "    \n",
    "\n",
    "    ####################################\n",
    "    # Extra Pytorch Lightning functions \n",
    "    ####################################\n",
    "    \n",
    "    def configure_optimizers(self):\n",
    "        optimizer = self.config[\"optimizer\"](self.parameters(), lr=self.config[\"learning_rate\"])\n",
    "        if \"scheduler\" in self.config:\n",
    "            scheduler = self.config[\"scheduler\"](optimizer, **self.config[\"scheduler_params\"])\n",
    "            return [optimizer], [scheduler]\n",
    "        return optimizer\n",
    "\n",
    "    def train_dataloader(self):\n",
    "        return torch.utils.data.DataLoader(self.train_set, batch_size=self.config[\"batch_size\"], pin_memory=True, num_workers=self.config[\"num_workers\"])\n",
    "\n",
    "    def val_dataloader(self):\n",
    "        return torch.utils.data.DataLoader(self.val_set, batch_size=self.config[\"batch_size\"], pin_memory=True, num_workers=self.config[\"num_workers\"])\n",
    "\n",
    "    def test_dataloader(self):\n",
    "        return torch.utils.data.DataLoader(self.test_set, batch_size=self.config[\"batch_size\"], pin_memory=True, num_workers=self.config[\"num_workers\"])\n",
    "\n",
    "    def training_step(self, batch:tuple, batch_idx:int) -> dict:\n",
    "        x, y = batch\n",
    "        x = x.to(self.config[\"device\"])\n",
    "        y = y.to(self.config[\"device\"])\n",
    "        prediction = self(x)\n",
    "        mse_loss = self.loss(prediction, y)\n",
    "\n",
    "        self.log(\"ptl/train_loss\", mse_loss)\n",
    "        return mse_loss\n",
    "\n",
    "    def validation_step(self, batch:tuple, batch_idx:int) -> dict:\n",
    "        x, y = batch\n",
    "        x = x.to(self.config[\"device\"])\n",
    "        y = y.to(self.config[\"device\"])\n",
    "        prediction = self(x)\n",
    "        mse_loss = self.loss(prediction, y)\n",
    "\n",
    "        self.log(\"ptl/val_loss\", mse_loss, prog_bar=True)\n",
    "        return {\"val_loss\":mse_loss}\n",
    "\n",
    "    def test_step(self, batch:tuple, batch_idx:int) -> dict:\n",
    "        x, y = batch\n",
    "        x = x.to(self.config[\"device\"])\n",
    "        y = y.to(self.config[\"device\"])\n",
    "        prediction = self(x)\n",
    "        mse_loss = self.loss(prediction, y)\n",
    "\n",
    "        self.log(\"ptl/test_loss\", mse_loss)\n",
    "        return {\"test_loss\":mse_loss}\n",
    "\n",
    "    def validation_epoch_end(self, outputs):\n",
    "        avg_loss = torch.stack([x[\"val_loss\"] for x in outputs]).mean()\n",
    "        self.log(\"avg_val_loss\", avg_loss)\n",
    "        if avg_loss < self.best_val_loss:\n",
    "            self.best_val_loss = avg_loss\n",
    "            if self.current_epoch % self.config[\"checkpoint_save_period\"] == 0:\n",
    "                self.save_checkpoint()\n",
    "\n",
    "    def save_checkpoint(self, checkpoint_dir=MODEL_DIR):\n",
    "        model_dict = {\n",
    "            \"config\":self.config,\n",
    "            \"avg_val_loss\":np.round(self.best_val_loss.item(),2),\n",
    "            \"parameters\":self.module.state_dict(),\n",
    "        }\n",
    "\n",
    "        if not os.path.exists(checkpoint_dir):\n",
    "            os.mkdir(checkpoint_dir)\n",
    "\n",
    "        filePath = os.path.join(checkpoint_dir, \"MLP_{}.pbz2\".format(model_dict[\"avg_val_loss\"]))\n",
    "        with bz2.BZ2File(filePath, \"w\") as file_ref:\n",
    "            pkl.dump(model_dict, file_ref)\n",
    "\n",
    "    @staticmethod\n",
    "    def load_checkpoint(filePath:str):\n",
    "        with bz2.BZ2File(filePath, \"rb\") as f:\n",
    "            model_dict = pkl.load(f)\n",
    "\n",
    "        # Reconstruct the model from config\n",
    "        model = MLP_Lightning(config=model_dict[\"config\"])\n",
    "\n",
    "        # Load the pre-trained parameters\n",
    "        model.module.load_state_dict(model_dict[\"parameters\"])\n",
    "\n",
    "        return model\n",
    "    "
   ]
  },
  {
   "cell_type": "code",
   "execution_count": 5,
   "metadata": {},
   "outputs": [],
   "source": [
    "# Read all preprocessed walk clips from disk from 'prepare_data.ipynb'\n",
    "# clips = a list of clips of dimension 7840 x 12\n",
    "clips = [read_pbz2(os.path.join(DATASET_DIR, file)) for file in os.listdir(DATASET_DIR)]"
   ]
  },
  {
   "cell_type": "code",
   "execution_count": 6,
   "metadata": {},
   "outputs": [],
   "source": [
    "# Prepare input samples and ground truths\n",
    "# Splitting the dataset into three sets for training, validating, testing\n",
    "# Now we are working with tensors (type = torch.Tensor)\n",
    "\n",
    "torch.set_default_dtype(torch.float64)  # set the default data type to be double (default: float)\n",
    "\n",
    "# Remember that clip has shape (Frames x Features) = (7840 x 12)\n",
    "x_tensors = torch.concat([torch.from_numpy(clip[:-1]) for clip in clips],axis=0)  # inputs for the model\n",
    "y_tensors = torch.concat([torch.from_numpy(clip[1:]) for clip in clips],axis=0)   # ground truth for the data, which is the next frame of the input frame\n",
    "\n",
    "# dropping acceleration data from ground_truth data, which are 7th to 9th column \n",
    "target_feature_indices = [i for i in range(12) if i not in (6,7,8)] \n",
    "y_tensors = y_tensors[:, target_feature_indices]\n",
    "\n",
    "input_dim = x_tensors.shape[1]  # 12\n",
    "output_dim = y_tensors.shape[1] # 9\n",
    "\n",
    "dataset = torch.utils.data.TensorDataset(x_tensors, y_tensors)\n",
    "\n",
    "num_samples = len(x_tensors) # sample = frame = row\n",
    "num_train_samples = int(0.8 * num_samples)  # 80% for training, 10% for validation and 20% for testing\n",
    "num_test_samples = int(num_samples - num_train_samples) \n",
    "num_val_samples = num_test_samples // 2\n",
    "\n",
    "# Randomly split dataset into the 3 sets given the number of samples in each set\n",
    "train_set, val_set, test_set = torch.utils.data.dataset.random_split(\n",
    "    dataset, [num_train_samples, num_val_samples, num_val_samples],\n",
    "    generator=torch.Generator().manual_seed(2048))\n",
    "\n",
    "# reuse validation set for testing\n",
    "test_set += val_set\n"
   ]
  },
  {
   "cell_type": "code",
   "execution_count": 7,
   "metadata": {},
   "outputs": [
    {
     "name": "stderr",
     "output_type": "stream",
     "text": [
      "<ipython-input-3-d29c2f3c11cf>:43: UserWarning: Received optimizer of type <class 'type'> should be <class 'torch.optim.adamw.AdamW'>\n",
      "  warnings.warn(\"Received {} of type {} should be {}\".format(k, type(config[k]), v))\n",
      "<ipython-input-3-d29c2f3c11cf>:43: UserWarning: Received scheduler of type <class 'type'> should be <class 'torch.optim.lr_scheduler.StepLR'>\n",
      "  warnings.warn(\"Received {} of type {} should be {}\".format(k, type(config[k]), v))\n"
     ]
    },
    {
     "name": "stdout",
     "output_type": "stream",
     "text": [
      "  | Name            | Type       | Params\n",
      "-----------------------------------------------\n",
      "0 | module          | Sequential | 1.8 K \n",
      "1 | module.input    | Linear     | 416   \n",
      "2 | module.relu1    | ReLU       | 0     \n",
      "3 | module.dropout1 | Dropout    | 0     \n",
      "4 | module.hidden   | Linear     | 1.1 K \n",
      "5 | module.relu2    | ReLU       | 0     \n",
      "6 | module.dropout2 | Dropout    | 0     \n",
      "7 | module.output   | Linear     | 297   \n",
      "-----------------------------------------------\n",
      "1.8 K     Trainable params\n",
      "0         Non-trainable params\n",
      "1.8 K     Total params\n",
      "0.007     Total estimated model params size (MB)\n"
     ]
    },
    {
     "name": "stderr",
     "output_type": "stream",
     "text": [
      "<ipython-input-7-e3a12043465c>:20: LightningDeprecationWarning: The `LightningModule.summarize` method is deprecated in v1.5 and will be removed in v1.7. Use `pytorch_lightning.utilities.model_summary.summarize` instead.\n",
      "  print(model.summarize(max_depth=2))\n"
     ]
    }
   ],
   "source": [
    "num_cpus = os.cpu_count()\n",
    "config = {\n",
    "    \"input_dim\" : input_dim,\n",
    "    \"output_dim\" : output_dim,\n",
    "    \"hidden_dim\" : 32,     \n",
    "    \"dropout\" : 0.2,\n",
    "    \"optimizer\" : torch.optim.AdamW,\n",
    "    \"loss_fn\" : torch.nn.functional.mse_loss,\n",
    "    \"scheduler\" : torch.optim.lr_scheduler.StepLR,\n",
    "    \"scheduler_params\" : {\"step_size\":10, \"gamma\":.95},    # decay with 95% every 10 epochs\n",
    "    \"batch_size\" : 512,\n",
    "    \"learning_rate\" : 1e-3,\n",
    "    \"num_workers\" : os.cpu_count(),\n",
    "    \"checkpoint_save_period\" : 10, # saves a checkpoint every 10 epochs if it's better than prev checkpoint\n",
    "    \"model_dir\" : MODEL_DIR,\n",
    "    \"device\" : \"cuda\" if torch.cuda.is_available() else \"cpu\", \n",
    "}\n",
    "\n",
    "model = MLP_Lightning(config, train_set, test_set, val_set)\n",
    "print(model.summarize(max_depth=2))"
   ]
  },
  {
   "cell_type": "code",
   "execution_count": 10,
   "metadata": {},
   "outputs": [],
   "source": [
    "useEarlyStopping = True\n",
    "max_epochs = 10\n",
    "min_epochs = 1\n",
    "early_stopping_patience = 2"
   ]
  },
  {
   "cell_type": "code",
   "execution_count": 11,
   "metadata": {},
   "outputs": [
    {
     "name": "stderr",
     "output_type": "stream",
     "text": [
      "Using 16bit native Automatic Mixed Precision (AMP)\n",
      "GPU available: True, used: True\n",
      "TPU available: False, using: 0 TPU cores\n",
      "IPU available: False, using: 0 IPUs\n",
      "LOCAL_RANK: 0 - CUDA_VISIBLE_DEVICES: [0]\n"
     ]
    },
    {
     "name": "stdout",
     "output_type": "stream",
     "text": [
      "Testing:   3%|▎         | 1/34 [00:01<00:33,  1.00s/it]--------------------------------------------------------------------------------\n",
      "DATALOADER:0 TEST RESULTS\n",
      "{'ptl/test_loss': 0.8225607309556744}\n",
      "--------------------------------------------------------------------------------\n",
      "Testing: 100%|██████████| 34/34 [00:01<00:00, 31.75it/s]"
     ]
    },
    {
     "name": "stderr",
     "output_type": "stream",
     "text": [
      "Using 16bit native Automatic Mixed Precision (AMP)\n",
      "GPU available: True, used: True\n",
      "TPU available: False, using: 0 TPU cores\n",
      "IPU available: False, using: 0 IPUs\n",
      "LOCAL_RANK: 0 - CUDA_VISIBLE_DEVICES: [0]\n",
      "\n",
      "  | Name   | Type       | Params\n",
      "--------------------------------------\n",
      "0 | module | Sequential | 1.8 K \n",
      "--------------------------------------\n",
      "1.8 K     Trainable params\n",
      "0         Non-trainable params\n",
      "1.8 K     Total params\n",
      "0.004     Total estimated model params size (MB)\n"
     ]
    },
    {
     "name": "stdout",
     "output_type": "stream",
     "text": [
      "\n",
      "Epoch 9: 100%|██████████| 153/153 [00:01<00:00, 87.28it/s, loss=0.0681, v_num=0.1, ptl/val_loss=0.0116] "
     ]
    },
    {
     "name": "stderr",
     "output_type": "stream",
     "text": [
      "LOCAL_RANK: 0 - CUDA_VISIBLE_DEVICES: [0]\n"
     ]
    },
    {
     "name": "stdout",
     "output_type": "stream",
     "text": [
      "\n",
      "Testing:   3%|▎         | 1/34 [00:00<00:16,  1.96it/s]--------------------------------------------------------------------------------\n",
      "DATALOADER:0 TEST RESULTS\n",
      "{'ptl/test_loss': 0.01159143799431821}\n",
      "--------------------------------------------------------------------------------\n",
      "Testing: 100%|██████████| 34/34 [00:00<00:00, 55.60it/s]\n"
     ]
    }
   ],
   "source": [
    "if useEarlyStopping:\n",
    "    earlystopping = EarlyStopping(monitor=\"avg_val_loss\",patience=2)\n",
    "    callbacks = [earlystopping]\n",
    "else:\n",
    "    callbacks = []\n",
    "\n",
    "logger=TensorBoardLogger(save_dir=\"log/\", name=\"MLP\", version=\"0.1\")\n",
    "\n",
    "trainer = pytorch_lightning.Trainer(logger=logger, gpus=1, precision=16)\n",
    "result_1 = trainer.test(model)\n",
    "\n",
    "trainer = pytorch_lightning.Trainer(\n",
    "    default_root_dir=\"checkpoints\",\n",
    "    gpus=1, precision=16,\n",
    "    callbacks= callbacks,\n",
    "    min_epochs=min_epochs,\n",
    "    logger=logger,\n",
    "    max_epochs=max_epochs,\n",
    ")\n",
    "\n",
    "trainer.fit(model)\n",
    "result_2 = trainer.test(model)"
   ]
  },
  {
   "cell_type": "code",
   "execution_count": 12,
   "metadata": {},
   "outputs": [
    {
     "name": "stdout",
     "output_type": "stream",
     "text": [
      "Avg. test loss before training: 0.823\n",
      "Avg. test loss after training: 0.012\n"
     ]
    }
   ],
   "source": [
    "print(\"Avg. test loss before training: {:.3f}\".format(result_1[0][\"ptl/test_loss\"]))\n",
    "print(\"Avg. test loss after training: {:.3f}\".format(result_2[0][\"ptl/test_loss\"]))"
   ]
  },
  {
   "cell_type": "code",
   "execution_count": 16,
   "metadata": {},
   "outputs": [
    {
     "name": "stdout",
     "output_type": "stream",
     "text": [
      "model/MLP_0.06.pbz2\n",
      "  | Name            | Type       | Params\n",
      "-----------------------------------------------\n",
      "0 | module          | Sequential | 1.8 K \n",
      "1 | module.input    | Linear     | 416   \n",
      "2 | module.relu1    | ReLU       | 0     \n",
      "3 | module.dropout1 | Dropout    | 0     \n",
      "4 | module.hidden   | Linear     | 1.1 K \n",
      "5 | module.relu2    | ReLU       | 0     \n",
      "6 | module.dropout2 | Dropout    | 0     \n",
      "7 | module.output   | Linear     | 297   \n",
      "-----------------------------------------------\n",
      "1.8 K     Trainable params\n",
      "0         Non-trainable params\n",
      "1.8 K     Total params\n",
      "0.007     Total estimated model params size (MB)\n"
     ]
    },
    {
     "name": "stderr",
     "output_type": "stream",
     "text": [
      "<ipython-input-3-d29c2f3c11cf>:43: UserWarning: Received optimizer of type <class 'type'> should be <class 'torch.optim.adamw.AdamW'>\n",
      "  warnings.warn(\"Received {} of type {} should be {}\".format(k, type(config[k]), v))\n",
      "<ipython-input-3-d29c2f3c11cf>:43: UserWarning: Received scheduler of type <class 'type'> should be <class 'torch.optim.lr_scheduler.StepLR'>\n",
      "  warnings.warn(\"Received {} of type {} should be {}\".format(k, type(config[k]), v))\n"
     ]
    }
   ],
   "source": [
    "saved_checkpoints = os.listdir(config[\"model_dir\"])\n",
    "best_model_path = os.path.join(config[\"model_dir\"], saved_checkpoints[-1])\n",
    "model2 = MLP_Lightning.load_checkpoint(best_model_path)\n",
    "print(best_model_path)\n",
    "print(model2.summarize(max_depth=2))"
   ]
  },
  {
   "cell_type": "code",
   "execution_count": 18,
   "metadata": {},
   "outputs": [
    {
     "name": "stdout",
     "output_type": "stream",
     "text": [
      "Finished one clip with 4887 frames in 0.3156147003173828 sec\n",
      "\n",
      "    Avg time per frame: 6.458250466899587e-05\n",
      " \n",
      "    Avg. loss: 0.010777842586677274\n",
      "\n"
     ]
    }
   ],
   "source": [
    "# Using the model\n",
    "import time\n",
    "bvh_files = os.listdir(DATA_DIR)\n",
    "walk_clips = [os.path.join(DATA_DIR,f) for f in bvh_files if re.search(\"walk\", f) is not None]\n",
    "data = DataPreprocess(write=False)(walk_clips[-1])\n",
    "\n",
    "input_frames = torch.from_numpy(data[\"data\"][:-1])\n",
    "target_frames = torch.from_numpy(data[\"data\"][1:])\n",
    "target_frames = target_frames[:, target_feature_indices]\n",
    "\n",
    "num_frames = len(target_frames)\n",
    "predicted_frames = [None]*num_frames\n",
    "\n",
    "model.eval()\n",
    "model.to(\"cpu\")\n",
    "start_time = time.time()\n",
    "idx = 0\n",
    "loss = 0\n",
    "with torch.no_grad():\n",
    "    for x,y in zip(input_frames, target_frames):\n",
    "        predicted = model(x)\n",
    "        loss += torch.nn.functional.mse_loss(predicted, y)\n",
    "        predicted_frames[idx] = predicted\n",
    "        idx += 1\n",
    "end_time = time.time()\n",
    "predicted_frames = np.asarray([p.numpy() for p in predicted_frames])\n",
    "\n",
    "print(\n",
    "    f\"\"\"Finished one clip with {num_frames} frames in {end_time - start_time} sec\\n\n",
    "    Avg time per frame: {(end_time-start_time)/num_frames}\\n \n",
    "    Avg. loss: {loss/num_frames}\\n\"\"\"\n",
    "    )\n"
   ]
  },
  {
   "cell_type": "code",
   "execution_count": 19,
   "metadata": {},
   "outputs": [
    {
     "data": {
      "application/vnd.plotly.v1+json": {
       "config": {
        "plotlyServerURL": "https://plot.ly"
       },
       "data": [
        {
         "name": "Target",
         "type": "scatter3d",
         "x": [
          -1.075783481240521,
          -1.0757196134960536,
          -1.0756635340859264,
          -1.075620959843211,
          -1.075601355019085,
          -1.0756005766110106,
          -1.0756043410435017,
          -1.075606421051963,
          -1.0756017463499203,
          -1.0755907125218052,
          -1.0755750039916476,
          -1.0755550163438785,
          -1.0755316470872616,
          -1.0754924459462019,
          -1.0754444185933691,
          -1.0753865228977353,
          -1.075319409659493,
          -1.075239837638464,
          -1.0751548125073178,
          -1.0750658910822037
         ],
         "y": [
          0.5405884652163064,
          0.5405848624204648,
          0.5405852197225317,
          0.5405863256575009,
          0.5405911577425967,
          0.5406002476773237,
          0.5406099161011116,
          0.5406184828435263,
          0.5406276365821939,
          0.5406389639084355,
          0.5406500275117229,
          0.5406589217810324,
          0.5406672928580294,
          0.5406769953105856,
          0.5406888075467751,
          0.5407006878405012,
          0.5407087016154313,
          0.5407118492764973,
          0.5407160688437641,
          0.5407316114836765
         ],
         "z": [
          1.585289201779737,
          1.585279856629248,
          1.585249609307842,
          1.5852028793018003,
          1.5851471912225084,
          1.5850879981800836,
          1.5850276353987494,
          1.5849561111814185,
          1.5848753694214799,
          1.5847885280048268,
          1.5847031115428456,
          1.5846201664201607,
          1.5845469535252041,
          1.5844843831275275,
          1.5844299923950262,
          1.5843883241682661,
          1.5843550950760399,
          1.5843240693465597,
          1.584299015665913,
          1.5842896705154237
         ]
        },
        {
         "name": "Predicted",
         "type": "scatter3d",
         "x": [
          -1.0592060758554909,
          -1.0592003568960104,
          -1.0591549891607694,
          -1.0591154408882806,
          -1.059086657653896,
          -1.0590756345555452,
          -1.059079091634011,
          -1.059086344796275,
          -1.059092658404858,
          -1.0590937868644463,
          -1.059089889916932,
          -1.0590827878370381,
          -1.0590731353772307,
          -1.0590614583238511,
          -1.0590376040990883,
          -1.0590069179281958,
          -1.0589689731928942,
          -1.0589245209122582,
          -1.0588711399154687,
          -1.0588134477644182
         ],
         "y": [
          0.38852556288205387,
          0.3885261027780512,
          0.3885266968569758,
          0.38852952041086053,
          0.3885326170523639,
          0.388537168332176,
          0.38854341946159354,
          0.3885498013749863,
          0.38855575078304183,
          0.38856224373499004,
          0.3885700966894482,
          0.3885778829638238,
          0.38858457524212986,
          0.38859092928744987,
          0.3885981814033487,
          0.38860661025766063,
          0.38861511967375195,
          0.38862158838747485,
          0.38862569630296906,
          0.3886303453888178
         ],
         "z": [
          1.3553516288509817,
          1.3553461958862627,
          1.3553322575466153,
          1.3552972760927287,
          1.3552466383053676,
          1.3551847571947406,
          1.3551158012369733,
          1.3550443346000276,
          1.354963118343433,
          1.354872890850811,
          1.3547753927673145,
          1.3546781334102047,
          1.3545828756890406,
          1.3544948924872608,
          1.3544142090917515,
          1.3543382382966243,
          1.35427191844566,
          1.354214340122872,
          1.354160945201578,
          1.354111451125362
         ]
        }
       ],
       "layout": {
        "template": {
         "data": {
          "bar": [
           {
            "error_x": {
             "color": "#2a3f5f"
            },
            "error_y": {
             "color": "#2a3f5f"
            },
            "marker": {
             "line": {
              "color": "#E5ECF6",
              "width": 0.5
             },
             "pattern": {
              "fillmode": "overlay",
              "size": 10,
              "solidity": 0.2
             }
            },
            "type": "bar"
           }
          ],
          "barpolar": [
           {
            "marker": {
             "line": {
              "color": "#E5ECF6",
              "width": 0.5
             },
             "pattern": {
              "fillmode": "overlay",
              "size": 10,
              "solidity": 0.2
             }
            },
            "type": "barpolar"
           }
          ],
          "carpet": [
           {
            "aaxis": {
             "endlinecolor": "#2a3f5f",
             "gridcolor": "white",
             "linecolor": "white",
             "minorgridcolor": "white",
             "startlinecolor": "#2a3f5f"
            },
            "baxis": {
             "endlinecolor": "#2a3f5f",
             "gridcolor": "white",
             "linecolor": "white",
             "minorgridcolor": "white",
             "startlinecolor": "#2a3f5f"
            },
            "type": "carpet"
           }
          ],
          "choropleth": [
           {
            "colorbar": {
             "outlinewidth": 0,
             "ticks": ""
            },
            "type": "choropleth"
           }
          ],
          "contour": [
           {
            "colorbar": {
             "outlinewidth": 0,
             "ticks": ""
            },
            "colorscale": [
             [
              0,
              "#0d0887"
             ],
             [
              0.1111111111111111,
              "#46039f"
             ],
             [
              0.2222222222222222,
              "#7201a8"
             ],
             [
              0.3333333333333333,
              "#9c179e"
             ],
             [
              0.4444444444444444,
              "#bd3786"
             ],
             [
              0.5555555555555556,
              "#d8576b"
             ],
             [
              0.6666666666666666,
              "#ed7953"
             ],
             [
              0.7777777777777778,
              "#fb9f3a"
             ],
             [
              0.8888888888888888,
              "#fdca26"
             ],
             [
              1,
              "#f0f921"
             ]
            ],
            "type": "contour"
           }
          ],
          "contourcarpet": [
           {
            "colorbar": {
             "outlinewidth": 0,
             "ticks": ""
            },
            "type": "contourcarpet"
           }
          ],
          "heatmap": [
           {
            "colorbar": {
             "outlinewidth": 0,
             "ticks": ""
            },
            "colorscale": [
             [
              0,
              "#0d0887"
             ],
             [
              0.1111111111111111,
              "#46039f"
             ],
             [
              0.2222222222222222,
              "#7201a8"
             ],
             [
              0.3333333333333333,
              "#9c179e"
             ],
             [
              0.4444444444444444,
              "#bd3786"
             ],
             [
              0.5555555555555556,
              "#d8576b"
             ],
             [
              0.6666666666666666,
              "#ed7953"
             ],
             [
              0.7777777777777778,
              "#fb9f3a"
             ],
             [
              0.8888888888888888,
              "#fdca26"
             ],
             [
              1,
              "#f0f921"
             ]
            ],
            "type": "heatmap"
           }
          ],
          "heatmapgl": [
           {
            "colorbar": {
             "outlinewidth": 0,
             "ticks": ""
            },
            "colorscale": [
             [
              0,
              "#0d0887"
             ],
             [
              0.1111111111111111,
              "#46039f"
             ],
             [
              0.2222222222222222,
              "#7201a8"
             ],
             [
              0.3333333333333333,
              "#9c179e"
             ],
             [
              0.4444444444444444,
              "#bd3786"
             ],
             [
              0.5555555555555556,
              "#d8576b"
             ],
             [
              0.6666666666666666,
              "#ed7953"
             ],
             [
              0.7777777777777778,
              "#fb9f3a"
             ],
             [
              0.8888888888888888,
              "#fdca26"
             ],
             [
              1,
              "#f0f921"
             ]
            ],
            "type": "heatmapgl"
           }
          ],
          "histogram": [
           {
            "marker": {
             "pattern": {
              "fillmode": "overlay",
              "size": 10,
              "solidity": 0.2
             }
            },
            "type": "histogram"
           }
          ],
          "histogram2d": [
           {
            "colorbar": {
             "outlinewidth": 0,
             "ticks": ""
            },
            "colorscale": [
             [
              0,
              "#0d0887"
             ],
             [
              0.1111111111111111,
              "#46039f"
             ],
             [
              0.2222222222222222,
              "#7201a8"
             ],
             [
              0.3333333333333333,
              "#9c179e"
             ],
             [
              0.4444444444444444,
              "#bd3786"
             ],
             [
              0.5555555555555556,
              "#d8576b"
             ],
             [
              0.6666666666666666,
              "#ed7953"
             ],
             [
              0.7777777777777778,
              "#fb9f3a"
             ],
             [
              0.8888888888888888,
              "#fdca26"
             ],
             [
              1,
              "#f0f921"
             ]
            ],
            "type": "histogram2d"
           }
          ],
          "histogram2dcontour": [
           {
            "colorbar": {
             "outlinewidth": 0,
             "ticks": ""
            },
            "colorscale": [
             [
              0,
              "#0d0887"
             ],
             [
              0.1111111111111111,
              "#46039f"
             ],
             [
              0.2222222222222222,
              "#7201a8"
             ],
             [
              0.3333333333333333,
              "#9c179e"
             ],
             [
              0.4444444444444444,
              "#bd3786"
             ],
             [
              0.5555555555555556,
              "#d8576b"
             ],
             [
              0.6666666666666666,
              "#ed7953"
             ],
             [
              0.7777777777777778,
              "#fb9f3a"
             ],
             [
              0.8888888888888888,
              "#fdca26"
             ],
             [
              1,
              "#f0f921"
             ]
            ],
            "type": "histogram2dcontour"
           }
          ],
          "mesh3d": [
           {
            "colorbar": {
             "outlinewidth": 0,
             "ticks": ""
            },
            "type": "mesh3d"
           }
          ],
          "parcoords": [
           {
            "line": {
             "colorbar": {
              "outlinewidth": 0,
              "ticks": ""
             }
            },
            "type": "parcoords"
           }
          ],
          "pie": [
           {
            "automargin": true,
            "type": "pie"
           }
          ],
          "scatter": [
           {
            "fillpattern": {
             "fillmode": "overlay",
             "size": 10,
             "solidity": 0.2
            },
            "type": "scatter"
           }
          ],
          "scatter3d": [
           {
            "line": {
             "colorbar": {
              "outlinewidth": 0,
              "ticks": ""
             }
            },
            "marker": {
             "colorbar": {
              "outlinewidth": 0,
              "ticks": ""
             }
            },
            "type": "scatter3d"
           }
          ],
          "scattercarpet": [
           {
            "marker": {
             "colorbar": {
              "outlinewidth": 0,
              "ticks": ""
             }
            },
            "type": "scattercarpet"
           }
          ],
          "scattergeo": [
           {
            "marker": {
             "colorbar": {
              "outlinewidth": 0,
              "ticks": ""
             }
            },
            "type": "scattergeo"
           }
          ],
          "scattergl": [
           {
            "marker": {
             "colorbar": {
              "outlinewidth": 0,
              "ticks": ""
             }
            },
            "type": "scattergl"
           }
          ],
          "scattermapbox": [
           {
            "marker": {
             "colorbar": {
              "outlinewidth": 0,
              "ticks": ""
             }
            },
            "type": "scattermapbox"
           }
          ],
          "scatterpolar": [
           {
            "marker": {
             "colorbar": {
              "outlinewidth": 0,
              "ticks": ""
             }
            },
            "type": "scatterpolar"
           }
          ],
          "scatterpolargl": [
           {
            "marker": {
             "colorbar": {
              "outlinewidth": 0,
              "ticks": ""
             }
            },
            "type": "scatterpolargl"
           }
          ],
          "scatterternary": [
           {
            "marker": {
             "colorbar": {
              "outlinewidth": 0,
              "ticks": ""
             }
            },
            "type": "scatterternary"
           }
          ],
          "surface": [
           {
            "colorbar": {
             "outlinewidth": 0,
             "ticks": ""
            },
            "colorscale": [
             [
              0,
              "#0d0887"
             ],
             [
              0.1111111111111111,
              "#46039f"
             ],
             [
              0.2222222222222222,
              "#7201a8"
             ],
             [
              0.3333333333333333,
              "#9c179e"
             ],
             [
              0.4444444444444444,
              "#bd3786"
             ],
             [
              0.5555555555555556,
              "#d8576b"
             ],
             [
              0.6666666666666666,
              "#ed7953"
             ],
             [
              0.7777777777777778,
              "#fb9f3a"
             ],
             [
              0.8888888888888888,
              "#fdca26"
             ],
             [
              1,
              "#f0f921"
             ]
            ],
            "type": "surface"
           }
          ],
          "table": [
           {
            "cells": {
             "fill": {
              "color": "#EBF0F8"
             },
             "line": {
              "color": "white"
             }
            },
            "header": {
             "fill": {
              "color": "#C8D4E3"
             },
             "line": {
              "color": "white"
             }
            },
            "type": "table"
           }
          ]
         },
         "layout": {
          "annotationdefaults": {
           "arrowcolor": "#2a3f5f",
           "arrowhead": 0,
           "arrowwidth": 1
          },
          "autotypenumbers": "strict",
          "coloraxis": {
           "colorbar": {
            "outlinewidth": 0,
            "ticks": ""
           }
          },
          "colorscale": {
           "diverging": [
            [
             0,
             "#8e0152"
            ],
            [
             0.1,
             "#c51b7d"
            ],
            [
             0.2,
             "#de77ae"
            ],
            [
             0.3,
             "#f1b6da"
            ],
            [
             0.4,
             "#fde0ef"
            ],
            [
             0.5,
             "#f7f7f7"
            ],
            [
             0.6,
             "#e6f5d0"
            ],
            [
             0.7,
             "#b8e186"
            ],
            [
             0.8,
             "#7fbc41"
            ],
            [
             0.9,
             "#4d9221"
            ],
            [
             1,
             "#276419"
            ]
           ],
           "sequential": [
            [
             0,
             "#0d0887"
            ],
            [
             0.1111111111111111,
             "#46039f"
            ],
            [
             0.2222222222222222,
             "#7201a8"
            ],
            [
             0.3333333333333333,
             "#9c179e"
            ],
            [
             0.4444444444444444,
             "#bd3786"
            ],
            [
             0.5555555555555556,
             "#d8576b"
            ],
            [
             0.6666666666666666,
             "#ed7953"
            ],
            [
             0.7777777777777778,
             "#fb9f3a"
            ],
            [
             0.8888888888888888,
             "#fdca26"
            ],
            [
             1,
             "#f0f921"
            ]
           ],
           "sequentialminus": [
            [
             0,
             "#0d0887"
            ],
            [
             0.1111111111111111,
             "#46039f"
            ],
            [
             0.2222222222222222,
             "#7201a8"
            ],
            [
             0.3333333333333333,
             "#9c179e"
            ],
            [
             0.4444444444444444,
             "#bd3786"
            ],
            [
             0.5555555555555556,
             "#d8576b"
            ],
            [
             0.6666666666666666,
             "#ed7953"
            ],
            [
             0.7777777777777778,
             "#fb9f3a"
            ],
            [
             0.8888888888888888,
             "#fdca26"
            ],
            [
             1,
             "#f0f921"
            ]
           ]
          },
          "colorway": [
           "#636efa",
           "#EF553B",
           "#00cc96",
           "#ab63fa",
           "#FFA15A",
           "#19d3f3",
           "#FF6692",
           "#B6E880",
           "#FF97FF",
           "#FECB52"
          ],
          "font": {
           "color": "#2a3f5f"
          },
          "geo": {
           "bgcolor": "white",
           "lakecolor": "white",
           "landcolor": "#E5ECF6",
           "showlakes": true,
           "showland": true,
           "subunitcolor": "white"
          },
          "hoverlabel": {
           "align": "left"
          },
          "hovermode": "closest",
          "mapbox": {
           "style": "light"
          },
          "paper_bgcolor": "white",
          "plot_bgcolor": "#E5ECF6",
          "polar": {
           "angularaxis": {
            "gridcolor": "white",
            "linecolor": "white",
            "ticks": ""
           },
           "bgcolor": "#E5ECF6",
           "radialaxis": {
            "gridcolor": "white",
            "linecolor": "white",
            "ticks": ""
           }
          },
          "scene": {
           "xaxis": {
            "backgroundcolor": "#E5ECF6",
            "gridcolor": "white",
            "gridwidth": 2,
            "linecolor": "white",
            "showbackground": true,
            "ticks": "",
            "zerolinecolor": "white"
           },
           "yaxis": {
            "backgroundcolor": "#E5ECF6",
            "gridcolor": "white",
            "gridwidth": 2,
            "linecolor": "white",
            "showbackground": true,
            "ticks": "",
            "zerolinecolor": "white"
           },
           "zaxis": {
            "backgroundcolor": "#E5ECF6",
            "gridcolor": "white",
            "gridwidth": 2,
            "linecolor": "white",
            "showbackground": true,
            "ticks": "",
            "zerolinecolor": "white"
           }
          },
          "shapedefaults": {
           "line": {
            "color": "#2a3f5f"
           }
          },
          "ternary": {
           "aaxis": {
            "gridcolor": "white",
            "linecolor": "white",
            "ticks": ""
           },
           "baxis": {
            "gridcolor": "white",
            "linecolor": "white",
            "ticks": ""
           },
           "bgcolor": "#E5ECF6",
           "caxis": {
            "gridcolor": "white",
            "linecolor": "white",
            "ticks": ""
           }
          },
          "title": {
           "x": 0.05
          },
          "xaxis": {
           "automargin": true,
           "gridcolor": "white",
           "linecolor": "white",
           "ticks": "",
           "title": {
            "standoff": 15
           },
           "zerolinecolor": "white",
           "zerolinewidth": 2
          },
          "yaxis": {
           "automargin": true,
           "gridcolor": "white",
           "linecolor": "white",
           "ticks": "",
           "title": {
            "standoff": 15
           },
           "zerolinecolor": "white",
           "zerolinewidth": 2
          }
         }
        }
       }
      }
     },
     "metadata": {},
     "output_type": "display_data"
    }
   ],
   "source": [
    "F = 20\n",
    "fig = go.Figure()\n",
    "fig.add_trace(\n",
    "    go.Scatter3d(x=target_frames[:F, 0], y=target_frames[:F, 1], z=target_frames[:F, 2], name=\"Target\")\n",
    ").add_trace(\n",
    "    go.Scatter3d(x=predicted_frames[:F, 0], y=predicted_frames[:F, 1], z=predicted_frames[:F, 2], name=\"Predicted\")\n",
    ")\n",
    "fig.show()"
   ]
  }
 ],
 "metadata": {
  "kernelspec": {
   "display_name": "Python 3.9.12 ('base')",
   "language": "python",
   "name": "python3"
  },
  "language_info": {
   "codemirror_mode": {
    "name": "ipython",
    "version": 3
   },
   "file_extension": ".py",
   "mimetype": "text/x-python",
   "name": "python",
   "nbconvert_exporter": "python",
   "pygments_lexer": "ipython3",
   "version": "3.9.12"
  },
  "orig_nbformat": 4,
  "vscode": {
   "interpreter": {
    "hash": "3d597f4c481aa0f25dceb95d2a0067e73c0966dcbd003d741d821a7208527ecf"
   }
  }
 },
 "nbformat": 4,
 "nbformat_minor": 2
}
