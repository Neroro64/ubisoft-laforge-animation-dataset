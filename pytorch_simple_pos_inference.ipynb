{
 "cells": [
  {
   "cell_type": "code",
   "execution_count": 1,
   "metadata": {},
   "outputs": [],
   "source": [
    "# Scienctic computing \n",
    "import numpy as np\n",
    "import pandas as pd\n",
    "\n",
    "# Pytorch\n",
    "import torch\n",
    "from torch import Tensor\n",
    "\n",
    "# Python libraries\n",
    "import _pickle as pkl\n",
    "import bz2\n",
    "import warnings\n",
    "import re\n",
    "\n",
    "# Laforge animation dataset\n",
    "from lafan1.extract import Anim\n",
    "\n",
    "# Plotting\n",
    "import plotly.express as ex\n",
    "import plotly.graph_objects as go\n",
    "\n",
    "# Local scripts\n",
    "from src.prepare_data import DataPreprocess"
   ]
  },
  {
   "cell_type": "code",
   "execution_count": 2,
   "metadata": {},
   "outputs": [],
   "source": [
    "DATA_DIR = \"data\"\n",
    "MOTION_ZIP = \"lafan1/lafan1.zip\"\n",
    "DATASET_DIR = \"dataset\"\n",
    "FRAME_TIME = 0.03333\n",
    "FRAMES = 7840"
   ]
  },
  {
   "cell_type": "code",
   "execution_count": 3,
   "metadata": {},
   "outputs": [],
   "source": [
    "def validate_config(config:dict=None) -> None:\n",
    "    '''\n",
    "    Validate that the model config contains necessary parameters of right type.\n",
    "\n",
    "    Parameters:\n",
    "        config (dict): a dictionary containing the configuration of NN model.\n",
    "    Returns:\n",
    "        None\n",
    "    '''\n",
    "    model_config_template = {\n",
    "        \"input_dim\" : int, # Required\n",
    "        \"output_dim\" : int,\n",
    "        \"hidden_dim\" : int,\n",
    "        \"dropout\" : 0.2,\n",
    "        \"device\" : \"cuda\" if torch.cuda.is_available() else \"cpu\", \n",
    "    }\n",
    "    required_parameters = [\"input_dim\", \"output_dim\", \"hidden_dim\"]\n",
    "    if config is None or sum([param in config for param in required_parameters]) != len(required_parameters):\n",
    "        raise ValueError(\"\"\"\n",
    "        Model config is not provided or not valid.\n",
    "        Please provide a dictionary with at least the following three parameters:\n",
    "        {\n",
    "            'input_dim' : int,\n",
    "            'output_dim' : int,\n",
    "            'hidden_dim' : int,\n",
    "        }\n",
    "        \"\"\")\n",
    "    \n",
    "    for k,v in model_config_template.items():\n",
    "        if isinstance(v, type):\n",
    "            if not isinstance(config[k], v):\n",
    "                warnings.warn(\"Received {} of type {} should be {}\".format(k, type(config[k]), v))\n",
    "        config.setdefault(k, v)\n",
    "\n",
    "def read_pbz2(filename:str) -> Anim:\n",
    "    with bz2.BZ2File(filename, 'rb') as f:\n",
    "        anim = pkl.load(f)\n",
    "    return anim \n",
    "    "
   ]
  },
  {
   "cell_type": "code",
   "execution_count": 4,
   "metadata": {},
   "outputs": [],
   "source": [
    "class MultilayerPerceptron(torch.nn.Module):\n",
    "    def __init__(self, config:dict=None):\n",
    "        validate_config(config)\n",
    "        super(MultilayerPerceptron, self).__init__()\n",
    "\n",
    "        self.input_layer = torch.nn.Linear(config[\"input_dim\"], config[\"hidden_dim\"], bias=True) # dimension: I x H\n",
    "        self.hidden_layer = torch.nn.Linear(config[\"hidden_dim\"], config[\"hidden_dim\"], bias=True) # dimension: H x H\n",
    "        self.output_layer = torch.nn.Linear(config[\"hidden_dim\"], config[\"output_dim\"], bias=True) # dimension: H x O\n",
    "        self.dropout_rate = config[\"dropout\"]\n",
    "        \n",
    "        # Register the layer parameters, otherwise you won't be able to get all parameters using model.parameters()\n",
    "        self.layers = torch.nn.ModuleList([self.input_layer, self.hidden_layer, self.output_layer])\n",
    "\n",
    "        for layer in self.layers:\n",
    "            self.init_param(layer, device=config[\"device\"])\n",
    "            # layer.to(config[\"device\"])\n",
    "            \n",
    "    def forward(self, x:Tensor) -> Tensor:\n",
    "        '''Note: ReLu() and Dropout() are applied as functions'''\n",
    "        output = torch.nn.functional.dropout(torch.nn.functional.relu(self.input_layer(x)), p=self.dropout_rate) # Dropout( Relu( Wx + B ) )\n",
    "        output = torch.nn.functional.dropout(torch.nn.functional.relu(self.hidden_layer(output)), p=self.dropout_rate)\n",
    "        output = self.output_layer(output)\n",
    "        return output\n",
    "    \n",
    "    def init_param(self, layer, device=\"cpu\"):\n",
    "        '''Randomly intialize the layer weights and intialize biases to 0.01'''\n",
    "        torch.nn.init.xavier_uniform_(layer.weight)\n",
    "        layer.bias.data.fill_(.01)\n"
   ]
  },
  {
   "cell_type": "code",
   "execution_count": 5,
   "metadata": {},
   "outputs": [],
   "source": [
    "# Read all preprocessed walk clips from disk from 'prepare_data.ipynb'\n",
    "# clips = a list of clips of dimension 7840 x 12\n",
    "clips = [read_pbz2(os.path.join(DATASET_DIR, file)) for file in os.listdir(DATASET_DIR)]"
   ]
  },
  {
   "cell_type": "code",
   "execution_count": 6,
   "metadata": {},
   "outputs": [],
   "source": [
    "# Prepare input samples and ground truths\n",
    "# Splitting the dataset into three sets for training, validating, testing\n",
    "# Now we are working with tensors (type = torch.Tensor)\n",
    "\n",
    "torch.set_default_dtype(torch.float64)  # set the default data type to be double (default: float)\n",
    "\n",
    "# Remember that clip has shape (Frames x Features) = (7840 x 12)\n",
    "x_tensors = torch.concat([torch.from_numpy(clip[:-1]) for clip in clips],axis=0)  # inputs for the model\n",
    "y_tensors = torch.concat([torch.from_numpy(clip[1:]) for clip in clips],axis=0)   # ground truth for the data, which is the next frame of the input frame\n",
    "\n",
    "# dropping acceleration data from ground_truth data, which are 7th to 9th column \n",
    "target_feature_indices = [i for i in range(12) if i not in (6,7,8)] \n",
    "y_tensors = y_tensors[:, target_feature_indices]\n",
    "\n",
    "input_dim = x_tensors.shape[1]  # 12\n",
    "output_dim = y_tensors.shape[1] # 9\n",
    "\n",
    "dataset = torch.utils.data.TensorDataset(x_tensors, y_tensors)\n",
    "\n",
    "num_samples = len(x_tensors) # sample = frame = row\n",
    "num_train_samples = int(0.8 * num_samples)  # 80% for training, 10% for validation and 20% for testing\n",
    "num_test_samples = int(num_samples - num_train_samples) \n",
    "num_val_samples = num_test_samples // 2\n",
    "\n",
    "# Randomly split dataset into the 3 sets given the number of samples in each set\n",
    "train_set, val_set, test_set = torch.utils.data.dataset.random_split(\n",
    "    dataset, [num_train_samples, num_val_samples, num_val_samples],\n",
    "    generator=torch.Generator().manual_seed(2048))\n",
    "\n",
    "# reuse validation set for testing\n",
    "test_set += val_set\n"
   ]
  },
  {
   "cell_type": "code",
   "execution_count": 7,
   "metadata": {},
   "outputs": [],
   "source": [
    "num_cpus = os.cpu_count()\n",
    "config = {\n",
    "    \"input_dim\" : input_dim,    # 12\n",
    "    \"output_dim\" : output_dim,  # 9\n",
    "    \"hidden_dim\" : 32,\n",
    "    \"dropout\" : 0.2,\n",
    "    \"device\" : \"cuda\" if torch.cuda.is_available() else \"cpu\", \n",
    "}\n",
    "\n",
    "model = MultilayerPerceptron(config)\n",
    "model.to(config[\"device\"]) # sets the device on which the model will be executed on\n",
    "print(model.summarize(max_depth=2))\n",
    "\n",
    "EPOCHS = 10\n",
    "learning_rate = 1e-3\n",
    "loss_fn = torch.nn.functional.mse_loss\n",
    "optimizer = torch.optim.AdamW(model.parameters(), lr=learning_rate)\n",
    "scheduler = torch.optim.lr_scheduler.StepLR(optimizer, 1, gamma=0.95)\n",
    "batch_size = 512\n",
    "log_interval = 10\n",
    "\n",
    "train_loader = torch.utils.data.DataLoader(train_set, batch_size=batch_size, shuffle=True, pin_memory=True, num_workers=num_cpus)\n",
    "val_loader = torch.utils.data.DataLoader(val_set, batch_size=batch_size, shuffle=True, pin_memory=True, num_workers=num_cpus)\n",
    "test_loader = torch.utils.data.DataLoader(test_set, batch_size=batch_size, shuffle=False, pin_memory=True, num_workers=num_cpus)"
   ]
  },
  {
   "cell_type": "code",
   "execution_count": 8,
   "metadata": {},
   "outputs": [
    {
     "name": "stdout",
     "output_type": "stream",
     "text": [
      "Train Epoch: 1 [0/69199 (0%)]\tLoss: 1.070677\n",
      "\n",
      "Validation set: Average loss: 9.2110\n",
      "\n",
      "Train Epoch: 1 [5120/69199 (7%)]\tLoss: 0.845193\n",
      "\n",
      "Validation set: Average loss: 7.0194\n",
      "\n",
      "Train Epoch: 1 [10240/69199 (15%)]\tLoss: 0.621101\n",
      "\n",
      "Validation set: Average loss: 5.5841\n",
      "\n",
      "Train Epoch: 1 [15360/69199 (22%)]\tLoss: 0.510438\n",
      "\n",
      "Validation set: Average loss: 4.5408\n",
      "\n",
      "Train Epoch: 1 [20480/69199 (29%)]\tLoss: 0.404425\n",
      "\n",
      "Validation set: Average loss: 3.7944\n",
      "\n",
      "Train Epoch: 1 [25600/69199 (37%)]\tLoss: 0.375587\n",
      "\n",
      "Validation set: Average loss: 3.1541\n",
      "\n",
      "Train Epoch: 1 [30720/69199 (44%)]\tLoss: 0.302004\n",
      "\n",
      "Validation set: Average loss: 2.7436\n",
      "\n",
      "Train Epoch: 1 [35840/69199 (51%)]\tLoss: 0.286430\n",
      "\n",
      "Validation set: Average loss: 2.4533\n",
      "\n",
      "Train Epoch: 1 [40960/69199 (59%)]\tLoss: 0.251157\n",
      "\n",
      "Validation set: Average loss: 2.2210\n",
      "\n",
      "Train Epoch: 1 [46080/69199 (66%)]\tLoss: 0.227113\n",
      "\n",
      "Validation set: Average loss: 2.0503\n",
      "\n",
      "Train Epoch: 1 [51200/69199 (74%)]\tLoss: 0.212386\n",
      "\n",
      "Validation set: Average loss: 1.9304\n",
      "\n",
      "Train Epoch: 1 [56320/69199 (81%)]\tLoss: 0.196773\n",
      "\n",
      "Validation set: Average loss: 1.8025\n",
      "\n",
      "Train Epoch: 1 [61440/69199 (88%)]\tLoss: 0.188425\n",
      "\n",
      "Validation set: Average loss: 1.7177\n",
      "\n",
      "Train Epoch: 1 [66560/69199 (96%)]\tLoss: 0.179712\n",
      "\n",
      "Validation set: Average loss: 1.6779\n",
      "\n",
      "Train Epoch: 2 [0/69199 (0%)]\tLoss: 0.178536\n",
      "\n",
      "Validation set: Average loss: 1.6132\n",
      "\n",
      "Train Epoch: 2 [5120/69199 (7%)]\tLoss: 0.161474\n",
      "\n",
      "Validation set: Average loss: 1.5600\n",
      "\n",
      "Train Epoch: 2 [10240/69199 (15%)]\tLoss: 0.164869\n",
      "\n",
      "Validation set: Average loss: 1.5097\n",
      "\n",
      "Train Epoch: 2 [15360/69199 (22%)]\tLoss: 0.154029\n",
      "\n",
      "Validation set: Average loss: 1.4487\n",
      "\n",
      "Train Epoch: 2 [20480/69199 (29%)]\tLoss: 0.164601\n",
      "\n",
      "Validation set: Average loss: 1.3934\n",
      "\n",
      "Train Epoch: 2 [25600/69199 (37%)]\tLoss: 0.156891\n",
      "\n",
      "Validation set: Average loss: 1.3620\n",
      "\n",
      "Train Epoch: 2 [30720/69199 (44%)]\tLoss: 0.138015\n",
      "\n",
      "Validation set: Average loss: 1.3313\n",
      "\n",
      "Train Epoch: 2 [35840/69199 (51%)]\tLoss: 0.152369\n",
      "\n",
      "Validation set: Average loss: 1.2927\n",
      "\n",
      "Train Epoch: 2 [40960/69199 (59%)]\tLoss: 0.136328\n",
      "\n",
      "Validation set: Average loss: 1.2531\n",
      "\n",
      "Train Epoch: 2 [46080/69199 (66%)]\tLoss: 0.131263\n",
      "\n",
      "Validation set: Average loss: 1.2190\n",
      "\n",
      "Train Epoch: 2 [51200/69199 (74%)]\tLoss: 0.135816\n",
      "\n",
      "Validation set: Average loss: 1.1971\n",
      "\n",
      "Train Epoch: 2 [56320/69199 (81%)]\tLoss: 0.124733\n",
      "\n",
      "Validation set: Average loss: 1.1747\n",
      "\n",
      "Train Epoch: 2 [61440/69199 (88%)]\tLoss: 0.133980\n",
      "\n",
      "Validation set: Average loss: 1.1405\n",
      "\n",
      "Train Epoch: 2 [66560/69199 (96%)]\tLoss: 0.122544\n",
      "\n",
      "Validation set: Average loss: 1.1215\n",
      "\n",
      "Train Epoch: 3 [0/69199 (0%)]\tLoss: 0.116135\n",
      "\n",
      "Validation set: Average loss: 1.1105\n",
      "\n",
      "Train Epoch: 3 [5120/69199 (7%)]\tLoss: 0.119284\n",
      "\n",
      "Validation set: Average loss: 1.0892\n",
      "\n",
      "Train Epoch: 3 [10240/69199 (15%)]\tLoss: 0.117766\n",
      "\n",
      "Validation set: Average loss: 1.0937\n",
      "\n",
      "Train Epoch: 3 [15360/69199 (22%)]\tLoss: 0.105937\n",
      "\n",
      "Validation set: Average loss: 1.0441\n",
      "\n",
      "Train Epoch: 3 [20480/69199 (29%)]\tLoss: 0.117965\n",
      "\n",
      "Validation set: Average loss: 1.0414\n",
      "\n",
      "Train Epoch: 3 [25600/69199 (37%)]\tLoss: 0.107415\n",
      "\n",
      "Validation set: Average loss: 1.0091\n",
      "\n",
      "Train Epoch: 3 [30720/69199 (44%)]\tLoss: 0.109490\n",
      "\n",
      "Validation set: Average loss: 1.0153\n",
      "\n",
      "Train Epoch: 3 [35840/69199 (51%)]\tLoss: 0.110856\n",
      "\n",
      "Validation set: Average loss: 0.9875\n",
      "\n",
      "Train Epoch: 3 [40960/69199 (59%)]\tLoss: 0.104666\n",
      "\n",
      "Validation set: Average loss: 0.9768\n",
      "\n",
      "Train Epoch: 3 [46080/69199 (66%)]\tLoss: 0.108154\n",
      "\n",
      "Validation set: Average loss: 0.9524\n",
      "\n",
      "Train Epoch: 3 [51200/69199 (74%)]\tLoss: 0.110666\n",
      "\n",
      "Validation set: Average loss: 0.9472\n",
      "\n",
      "Train Epoch: 3 [56320/69199 (81%)]\tLoss: 0.109139\n",
      "\n",
      "Validation set: Average loss: 0.9363\n",
      "\n",
      "Train Epoch: 3 [61440/69199 (88%)]\tLoss: 0.105541\n",
      "\n",
      "Validation set: Average loss: 0.9326\n",
      "\n",
      "Train Epoch: 3 [66560/69199 (96%)]\tLoss: 0.098550\n",
      "\n",
      "Validation set: Average loss: 0.9134\n",
      "\n",
      "Train Epoch: 4 [0/69199 (0%)]\tLoss: 0.101160\n",
      "\n",
      "Validation set: Average loss: 0.9103\n",
      "\n",
      "Train Epoch: 4 [5120/69199 (7%)]\tLoss: 0.099406\n",
      "\n",
      "Validation set: Average loss: 0.8997\n",
      "\n",
      "Train Epoch: 4 [10240/69199 (15%)]\tLoss: 0.105127\n",
      "\n",
      "Validation set: Average loss: 0.8869\n",
      "\n",
      "Train Epoch: 4 [15360/69199 (22%)]\tLoss: 0.099542\n",
      "\n",
      "Validation set: Average loss: 0.8592\n",
      "\n",
      "Train Epoch: 4 [20480/69199 (29%)]\tLoss: 0.097427\n",
      "\n",
      "Validation set: Average loss: 0.8807\n",
      "\n",
      "Train Epoch: 4 [25600/69199 (37%)]\tLoss: 0.101689\n",
      "\n",
      "Validation set: Average loss: 0.8572\n",
      "\n",
      "Train Epoch: 4 [30720/69199 (44%)]\tLoss: 0.096304\n",
      "\n",
      "Validation set: Average loss: 0.8750\n",
      "\n",
      "Train Epoch: 4 [35840/69199 (51%)]\tLoss: 0.092681\n",
      "\n",
      "Validation set: Average loss: 0.8422\n",
      "\n",
      "Train Epoch: 4 [40960/69199 (59%)]\tLoss: 0.096886\n",
      "\n",
      "Validation set: Average loss: 0.8604\n",
      "\n",
      "Train Epoch: 4 [46080/69199 (66%)]\tLoss: 0.093917\n",
      "\n",
      "Validation set: Average loss: 0.8473\n",
      "\n",
      "Train Epoch: 4 [51200/69199 (74%)]\tLoss: 0.098562\n",
      "\n",
      "Validation set: Average loss: 0.8405\n",
      "\n",
      "Train Epoch: 4 [56320/69199 (81%)]\tLoss: 0.090672\n",
      "\n",
      "Validation set: Average loss: 0.8188\n",
      "\n",
      "Train Epoch: 4 [61440/69199 (88%)]\tLoss: 0.086551\n",
      "\n",
      "Validation set: Average loss: 0.8208\n",
      "\n",
      "Train Epoch: 4 [66560/69199 (96%)]\tLoss: 0.095555\n",
      "\n",
      "Validation set: Average loss: 0.8121\n",
      "\n",
      "Train Epoch: 5 [0/69199 (0%)]\tLoss: 0.088217\n",
      "\n",
      "Validation set: Average loss: 0.8069\n",
      "\n",
      "Train Epoch: 5 [5120/69199 (7%)]\tLoss: 0.096320\n",
      "\n",
      "Validation set: Average loss: 0.8195\n",
      "\n",
      "Train Epoch: 5 [10240/69199 (15%)]\tLoss: 0.087977\n",
      "\n",
      "Validation set: Average loss: 0.8097\n",
      "\n",
      "Train Epoch: 5 [15360/69199 (22%)]\tLoss: 0.086671\n",
      "\n",
      "Validation set: Average loss: 0.8112\n",
      "\n",
      "Train Epoch: 5 [20480/69199 (29%)]\tLoss: 0.084008\n",
      "\n",
      "Validation set: Average loss: 0.8115\n",
      "\n",
      "Train Epoch: 5 [25600/69199 (37%)]\tLoss: 0.086981\n",
      "\n",
      "Validation set: Average loss: 0.7909\n",
      "\n",
      "Train Epoch: 5 [30720/69199 (44%)]\tLoss: 0.087276\n",
      "\n",
      "Validation set: Average loss: 0.7981\n",
      "\n",
      "Train Epoch: 5 [35840/69199 (51%)]\tLoss: 0.086231\n",
      "\n",
      "Validation set: Average loss: 0.7980\n",
      "\n",
      "Train Epoch: 5 [40960/69199 (59%)]\tLoss: 0.080189\n",
      "\n",
      "Validation set: Average loss: 0.7876\n",
      "\n",
      "Train Epoch: 5 [46080/69199 (66%)]\tLoss: 0.079725\n",
      "\n",
      "Validation set: Average loss: 0.7828\n",
      "\n",
      "Train Epoch: 5 [51200/69199 (74%)]\tLoss: 0.088571\n",
      "\n",
      "Validation set: Average loss: 0.7865\n",
      "\n",
      "Train Epoch: 5 [56320/69199 (81%)]\tLoss: 0.083696\n",
      "\n",
      "Validation set: Average loss: 0.7703\n",
      "\n",
      "Train Epoch: 5 [61440/69199 (88%)]\tLoss: 0.095103\n",
      "\n",
      "Validation set: Average loss: 0.7629\n",
      "\n",
      "Train Epoch: 5 [66560/69199 (96%)]\tLoss: 0.084199\n",
      "\n",
      "Validation set: Average loss: 0.7623\n",
      "\n",
      "Train Epoch: 6 [0/69199 (0%)]\tLoss: 0.079521\n",
      "\n",
      "Validation set: Average loss: 0.7588\n",
      "\n",
      "Train Epoch: 6 [5120/69199 (7%)]\tLoss: 0.083385\n",
      "\n",
      "Validation set: Average loss: 0.7700\n",
      "\n",
      "Train Epoch: 6 [10240/69199 (15%)]\tLoss: 0.087820\n",
      "\n",
      "Validation set: Average loss: 0.7466\n",
      "\n",
      "Train Epoch: 6 [15360/69199 (22%)]\tLoss: 0.083701\n",
      "\n",
      "Validation set: Average loss: 0.7514\n",
      "\n",
      "Train Epoch: 6 [20480/69199 (29%)]\tLoss: 0.086974\n",
      "\n",
      "Validation set: Average loss: 0.7553\n",
      "\n",
      "Train Epoch: 6 [25600/69199 (37%)]\tLoss: 0.081535\n",
      "\n",
      "Validation set: Average loss: 0.7513\n",
      "\n",
      "Train Epoch: 6 [30720/69199 (44%)]\tLoss: 0.080704\n",
      "\n",
      "Validation set: Average loss: 0.7555\n",
      "\n",
      "Train Epoch: 6 [35840/69199 (51%)]\tLoss: 0.090341\n",
      "\n",
      "Validation set: Average loss: 0.7449\n",
      "\n",
      "Train Epoch: 6 [40960/69199 (59%)]\tLoss: 0.085117\n",
      "\n",
      "Validation set: Average loss: 0.7426\n",
      "\n",
      "Train Epoch: 6 [46080/69199 (66%)]\tLoss: 0.084906\n",
      "\n",
      "Validation set: Average loss: 0.7364\n",
      "\n",
      "Train Epoch: 6 [51200/69199 (74%)]\tLoss: 0.082972\n",
      "\n",
      "Validation set: Average loss: 0.7413\n",
      "\n",
      "Train Epoch: 6 [56320/69199 (81%)]\tLoss: 0.082916\n",
      "\n",
      "Validation set: Average loss: 0.7393\n",
      "\n",
      "Train Epoch: 6 [61440/69199 (88%)]\tLoss: 0.074911\n",
      "\n",
      "Validation set: Average loss: 0.7311\n",
      "\n",
      "Train Epoch: 6 [66560/69199 (96%)]\tLoss: 0.077547\n",
      "\n",
      "Validation set: Average loss: 0.7343\n",
      "\n",
      "Train Epoch: 7 [0/69199 (0%)]\tLoss: 0.083056\n",
      "\n",
      "Validation set: Average loss: 0.7235\n",
      "\n",
      "Train Epoch: 7 [5120/69199 (7%)]\tLoss: 0.080366\n",
      "\n",
      "Validation set: Average loss: 0.7249\n",
      "\n",
      "Train Epoch: 7 [10240/69199 (15%)]\tLoss: 0.082223\n",
      "\n",
      "Validation set: Average loss: 0.7265\n",
      "\n",
      "Train Epoch: 7 [15360/69199 (22%)]\tLoss: 0.076790\n",
      "\n",
      "Validation set: Average loss: 0.7185\n",
      "\n",
      "Train Epoch: 7 [20480/69199 (29%)]\tLoss: 0.078611\n",
      "\n",
      "Validation set: Average loss: 0.7283\n",
      "\n",
      "Train Epoch: 7 [25600/69199 (37%)]\tLoss: 0.081909\n",
      "\n",
      "Validation set: Average loss: 0.7148\n",
      "\n",
      "Train Epoch: 7 [30720/69199 (44%)]\tLoss: 0.080561\n",
      "\n",
      "Validation set: Average loss: 0.7018\n",
      "\n",
      "Train Epoch: 7 [35840/69199 (51%)]\tLoss: 0.077319\n",
      "\n",
      "Validation set: Average loss: 0.7008\n",
      "\n",
      "Train Epoch: 7 [40960/69199 (59%)]\tLoss: 0.078481\n",
      "\n",
      "Validation set: Average loss: 0.7092\n",
      "\n",
      "Train Epoch: 7 [46080/69199 (66%)]\tLoss: 0.075688\n",
      "\n",
      "Validation set: Average loss: 0.7099\n",
      "\n",
      "Train Epoch: 7 [51200/69199 (74%)]\tLoss: 0.080639\n",
      "\n",
      "Validation set: Average loss: 0.7063\n",
      "\n",
      "Train Epoch: 7 [56320/69199 (81%)]\tLoss: 0.078495\n",
      "\n",
      "Validation set: Average loss: 0.7110\n",
      "\n",
      "Train Epoch: 7 [61440/69199 (88%)]\tLoss: 0.075749\n",
      "\n",
      "Validation set: Average loss: 0.6933\n",
      "\n",
      "Train Epoch: 7 [66560/69199 (96%)]\tLoss: 0.075040\n",
      "\n",
      "Validation set: Average loss: 0.7055\n",
      "\n",
      "Train Epoch: 8 [0/69199 (0%)]\tLoss: 0.091668\n",
      "\n",
      "Validation set: Average loss: 0.7064\n",
      "\n",
      "Train Epoch: 8 [5120/69199 (7%)]\tLoss: 0.077173\n",
      "\n",
      "Validation set: Average loss: 0.6895\n",
      "\n",
      "Train Epoch: 8 [10240/69199 (15%)]\tLoss: 0.080493\n",
      "\n",
      "Validation set: Average loss: 0.7138\n",
      "\n",
      "Train Epoch: 8 [15360/69199 (22%)]\tLoss: 0.076833\n",
      "\n",
      "Validation set: Average loss: 0.6986\n",
      "\n",
      "Train Epoch: 8 [20480/69199 (29%)]\tLoss: 0.080010\n",
      "\n",
      "Validation set: Average loss: 0.6896\n",
      "\n",
      "Train Epoch: 8 [25600/69199 (37%)]\tLoss: 0.068619\n",
      "\n",
      "Validation set: Average loss: 0.6933\n",
      "\n",
      "Train Epoch: 8 [30720/69199 (44%)]\tLoss: 0.073494\n",
      "\n",
      "Validation set: Average loss: 0.6897\n",
      "\n",
      "Train Epoch: 8 [35840/69199 (51%)]\tLoss: 0.088435\n",
      "\n",
      "Validation set: Average loss: 0.6861\n",
      "\n",
      "Train Epoch: 8 [40960/69199 (59%)]\tLoss: 0.074346\n",
      "\n",
      "Validation set: Average loss: 0.6973\n",
      "\n",
      "Train Epoch: 8 [46080/69199 (66%)]\tLoss: 0.073839\n",
      "\n",
      "Validation set: Average loss: 0.6791\n",
      "\n",
      "Train Epoch: 8 [51200/69199 (74%)]\tLoss: 0.075796\n",
      "\n",
      "Validation set: Average loss: 0.6848\n",
      "\n",
      "Train Epoch: 8 [56320/69199 (81%)]\tLoss: 0.074360\n",
      "\n",
      "Validation set: Average loss: 0.6883\n",
      "\n",
      "Train Epoch: 8 [61440/69199 (88%)]\tLoss: 0.082824\n",
      "\n",
      "Validation set: Average loss: 0.6711\n",
      "\n",
      "Train Epoch: 8 [66560/69199 (96%)]\tLoss: 0.075350\n",
      "\n",
      "Validation set: Average loss: 0.6820\n",
      "\n",
      "Train Epoch: 9 [0/69199 (0%)]\tLoss: 0.076320\n",
      "\n",
      "Validation set: Average loss: 0.6825\n",
      "\n",
      "Train Epoch: 9 [5120/69199 (7%)]\tLoss: 0.086256\n",
      "\n",
      "Validation set: Average loss: 0.6885\n",
      "\n",
      "Train Epoch: 9 [10240/69199 (15%)]\tLoss: 0.071995\n",
      "\n",
      "Validation set: Average loss: 0.6664\n",
      "\n",
      "Train Epoch: 9 [15360/69199 (22%)]\tLoss: 0.077919\n",
      "\n",
      "Validation set: Average loss: 0.6694\n",
      "\n",
      "Train Epoch: 9 [20480/69199 (29%)]\tLoss: 0.074922\n",
      "\n",
      "Validation set: Average loss: 0.6639\n",
      "\n",
      "Train Epoch: 9 [25600/69199 (37%)]\tLoss: 0.074625\n",
      "\n",
      "Validation set: Average loss: 0.6702\n",
      "\n",
      "Train Epoch: 9 [30720/69199 (44%)]\tLoss: 0.072205\n",
      "\n",
      "Validation set: Average loss: 0.6609\n",
      "\n",
      "Train Epoch: 9 [35840/69199 (51%)]\tLoss: 0.077045\n",
      "\n",
      "Validation set: Average loss: 0.6676\n",
      "\n",
      "Train Epoch: 9 [40960/69199 (59%)]\tLoss: 0.074033\n",
      "\n",
      "Validation set: Average loss: 0.6639\n",
      "\n",
      "Train Epoch: 9 [46080/69199 (66%)]\tLoss: 0.072494\n",
      "\n",
      "Validation set: Average loss: 0.6610\n",
      "\n",
      "Train Epoch: 9 [51200/69199 (74%)]\tLoss: 0.073551\n",
      "\n",
      "Validation set: Average loss: 0.6647\n",
      "\n",
      "Train Epoch: 9 [56320/69199 (81%)]\tLoss: 0.073369\n",
      "\n",
      "Validation set: Average loss: 0.6453\n",
      "\n",
      "Train Epoch: 9 [61440/69199 (88%)]\tLoss: 0.073753\n",
      "\n",
      "Validation set: Average loss: 0.6605\n",
      "\n",
      "Train Epoch: 9 [66560/69199 (96%)]\tLoss: 0.069891\n",
      "\n",
      "Validation set: Average loss: 0.6665\n",
      "\n",
      "Train Epoch: 10 [0/69199 (0%)]\tLoss: 0.079366\n",
      "\n",
      "Validation set: Average loss: 0.6429\n",
      "\n",
      "Train Epoch: 10 [5120/69199 (7%)]\tLoss: 0.069469\n",
      "\n",
      "Validation set: Average loss: 0.6495\n",
      "\n",
      "Train Epoch: 10 [10240/69199 (15%)]\tLoss: 0.072586\n",
      "\n",
      "Validation set: Average loss: 0.6472\n",
      "\n",
      "Train Epoch: 10 [15360/69199 (22%)]\tLoss: 0.070381\n",
      "\n",
      "Validation set: Average loss: 0.6535\n",
      "\n",
      "Train Epoch: 10 [20480/69199 (29%)]\tLoss: 0.072818\n",
      "\n",
      "Validation set: Average loss: 0.6514\n",
      "\n",
      "Train Epoch: 10 [25600/69199 (37%)]\tLoss: 0.073136\n",
      "\n",
      "Validation set: Average loss: 0.6510\n",
      "\n",
      "Train Epoch: 10 [30720/69199 (44%)]\tLoss: 0.068268\n",
      "\n",
      "Validation set: Average loss: 0.6596\n",
      "\n",
      "Train Epoch: 10 [35840/69199 (51%)]\tLoss: 0.073431\n",
      "\n",
      "Validation set: Average loss: 0.6427\n",
      "\n",
      "Train Epoch: 10 [40960/69199 (59%)]\tLoss: 0.071120\n",
      "\n",
      "Validation set: Average loss: 0.6504\n",
      "\n",
      "Train Epoch: 10 [46080/69199 (66%)]\tLoss: 0.071897\n",
      "\n",
      "Validation set: Average loss: 0.6466\n",
      "\n",
      "Train Epoch: 10 [51200/69199 (74%)]\tLoss: 0.070748\n",
      "\n",
      "Validation set: Average loss: 0.6505\n",
      "\n",
      "Train Epoch: 10 [56320/69199 (81%)]\tLoss: 0.074003\n",
      "\n",
      "Validation set: Average loss: 0.6310\n",
      "\n",
      "Train Epoch: 10 [61440/69199 (88%)]\tLoss: 0.068428\n",
      "\n",
      "Validation set: Average loss: 0.6501\n",
      "\n",
      "Train Epoch: 10 [66560/69199 (96%)]\tLoss: 0.067421\n",
      "\n",
      "Validation set: Average loss: 0.6428\n",
      "\n"
     ]
    }
   ],
   "source": [
    "# Training\n",
    "torch.manual_seed(2048)\n",
    "model.train()\n",
    "for epoch in range(1, EPOCHS+1):\n",
    "    for batch_idx, (x, y) in enumerate(train_loader):\n",
    "        x = x.to(config[\"device\"])\n",
    "        y = y.to(config[\"device\"])\n",
    "        optimizer.zero_grad()\n",
    "        output = model(x)\n",
    "        mse_loss = loss_fn(output,y)\n",
    "        mse_loss.backward()\n",
    "        optimizer.step()\n",
    "        if batch_idx % log_interval == 0:\n",
    "            print('Train Epoch: {} [{}/{} ({:.0f}%)]\\tLoss: {:.6f}'.format(\n",
    "                epoch, batch_idx * len(x), len(train_loader.dataset),\n",
    "                100. * batch_idx / len(train_loader), mse_loss.item()))\n",
    "            \n",
    "            val_loss = 0\n",
    "            model.eval()\n",
    "            with torch.no_grad():\n",
    "                for x,y in val_loader:\n",
    "                    x = x.to(config[\"device\"])\n",
    "                    y = y.to(config[\"device\"])\n",
    "                    output = model(x)\n",
    "                    val_loss += loss_fn(output,y,reduction='sum').item()\n",
    "            \n",
    "            val_loss /= len(val_loader.dataset)\n",
    "            print('\\nValidation set: Average loss: {:.4f}\\n'.format(val_loss))\n",
    "            model.train()\n",
    "    "
   ]
  },
  {
   "cell_type": "code",
   "execution_count": 9,
   "metadata": {},
   "outputs": [
    {
     "name": "stdout",
     "output_type": "stream",
     "text": [
      "\n",
      "Test set: Average loss: 0.6396\n",
      "\n"
     ]
    }
   ],
   "source": [
    "# Testing\n",
    "model.eval()\n",
    "test_loss = 0\n",
    "with torch.no_grad():\n",
    "    for x,y in test_loader:\n",
    "        x = x.to(config[\"device\"])\n",
    "        y = y.to(config[\"device\"])\n",
    "        output = model(x)\n",
    "        test_loss += loss_fn(output,y, reduction='sum').item()  # sum up batch loss\n",
    "\n",
    "test_loss /= len(test_loader.dataset)\n",
    "\n",
    "print('\\nTest set: Average loss: {:.4f}\\n'.format(test_loss))"
   ]
  },
  {
   "cell_type": "code",
   "execution_count": 10,
   "metadata": {},
   "outputs": [
    {
     "name": "stdout",
     "output_type": "stream",
     "text": [
      "Finished one clip with 4887 frames in 0.3276047706604004 sec\n",
      "\n",
      "    Avg time per frame: 6.703596698596284e-05\n",
      " \n",
      "    Avg. loss: 0.06914901260954019\n",
      "\n"
     ]
    }
   ],
   "source": [
    "# Using the model\n",
    "import time\n",
    "bvh_files = os.listdir(DATA_DIR)\n",
    "walk_clips = [os.path.join(DATA_DIR,f) for f in bvh_files if re.search(\"walk\", f) is not None]\n",
    "data = DataPreprocess(write=False)(walk_clips[-1])\n",
    "\n",
    "input_frames = torch.from_numpy(data[\"data\"][:-1])\n",
    "target_frames = torch.from_numpy(data[\"data\"][1:])\n",
    "target_frames = target_frames[:, target_feature_indices]\n",
    "\n",
    "num_frames = len(target_frames)\n",
    "predicted_frames = [None]*num_frames\n",
    "\n",
    "model.eval()\n",
    "model.to(\"cpu\")\n",
    "start_time = time.time()\n",
    "idx = 0\n",
    "loss = 0\n",
    "with torch.no_grad():\n",
    "    for x,y in zip(input_frames, target_frames):\n",
    "        predicted = model(x)\n",
    "        loss += torch.nn.functional.mse_loss(predicted, y)\n",
    "        predicted_frames[idx] = predicted\n",
    "        idx += 1\n",
    "end_time = time.time()\n",
    "predicted_frames = np.asarray([p.numpy() for p in predicted_frames])\n",
    "\n",
    "print(\n",
    "    f\"\"\"Finished one clip with {num_frames} frames in {end_time - start_time} sec\\n\n",
    "    Avg time per frame: {(end_time-start_time)/num_frames}\\n \n",
    "    Avg. loss: {loss/num_frames}\\n\"\"\"\n",
    "    )\n"
   ]
  },
  {
   "cell_type": "code",
   "execution_count": 11,
   "metadata": {},
   "outputs": [
    {
     "data": {
      "application/vnd.plotly.v1+json": {
       "config": {
        "plotlyServerURL": "https://plot.ly"
       },
       "data": [
        {
         "name": "Target",
         "type": "scatter3d",
         "x": [
          -1.075783481240521,
          -1.0757196134960536,
          -1.0756635340859264,
          -1.075620959843211,
          -1.075601355019085,
          -1.0756005766110106,
          -1.0756043410435017,
          -1.075606421051963,
          -1.0756017463499203,
          -1.0755907125218052,
          -1.0755750039916476,
          -1.0755550163438785,
          -1.0755316470872616,
          -1.0754924459462019,
          -1.0754444185933691,
          -1.0753865228977353,
          -1.075319409659493,
          -1.075239837638464,
          -1.0751548125073178,
          -1.0750658910822037
         ],
         "y": [
          0.5405884652163064,
          0.5405848624204648,
          0.5405852197225317,
          0.5405863256575009,
          0.5405911577425967,
          0.5406002476773237,
          0.5406099161011116,
          0.5406184828435263,
          0.5406276365821939,
          0.5406389639084355,
          0.5406500275117229,
          0.5406589217810324,
          0.5406672928580294,
          0.5406769953105856,
          0.5406888075467751,
          0.5407006878405012,
          0.5407087016154313,
          0.5407118492764973,
          0.5407160688437641,
          0.5407316114836765
         ],
         "z": [
          1.585289201779737,
          1.585279856629248,
          1.585249609307842,
          1.5852028793018003,
          1.5851471912225084,
          1.5850879981800836,
          1.5850276353987494,
          1.5849561111814185,
          1.5848753694214799,
          1.5847885280048268,
          1.5847031115428456,
          1.5846201664201607,
          1.5845469535252041,
          1.5844843831275275,
          1.5844299923950262,
          1.5843883241682661,
          1.5843550950760399,
          1.5843240693465597,
          1.584299015665913,
          1.5842896705154237
         ]
        },
        {
         "name": "Predicted",
         "type": "scatter3d",
         "x": [
          -1.3383831094080165,
          -0.9138194914892748,
          -1.303551599067768,
          -1.2712516603775226,
          -0.8875876006186356,
          -1.2410049096961209,
          -1.122194047722319,
          -1.0967228386041727,
          -1.3934941138483092,
          -0.8106730604441063,
          -0.6757887723686611,
          -1.0895157146742183,
          -1.2158835467362494,
          -1.1717289113911906,
          -1.2561111383692025,
          -0.8127239556159697,
          -1.2218157786087493,
          -1.2462459859011183,
          -1.2987087549859724,
          -0.9168393032661966
         ],
         "y": [
          0.48941935442475326,
          0.48600066147590265,
          0.42772927428554486,
          0.4161293736922901,
          0.3942033899299504,
          0.1713702398469118,
          0.5441499791421313,
          0.37959399977201436,
          0.5451898869557343,
          0.3997655661575997,
          0.4480335454146116,
          0.31615841082523727,
          0.40265126857410705,
          0.5257717716611346,
          0.13243719546562857,
          0.3211689028549819,
          0.27637662519485434,
          0.34887037838161844,
          0.38711996332110366,
          0.49889699603993853
         ],
         "z": [
          1.0664582411151744,
          1.7991115204736872,
          1.683308220180291,
          1.2908806733497953,
          1.4116487933605653,
          1.7015617605313194,
          1.1271883488058703,
          1.7172049501733557,
          1.8486302352213246,
          1.2566428500232323,
          0.6860887281035841,
          1.3058236741466902,
          1.6836642821004282,
          1.339011922987845,
          1.5127792590535047,
          1.1076356843445685,
          1.284218035002272,
          0.9283245292738597,
          1.5054862915929486,
          1.584309113679819
         ]
        }
       ],
       "layout": {
        "template": {
         "data": {
          "bar": [
           {
            "error_x": {
             "color": "#2a3f5f"
            },
            "error_y": {
             "color": "#2a3f5f"
            },
            "marker": {
             "line": {
              "color": "#E5ECF6",
              "width": 0.5
             },
             "pattern": {
              "fillmode": "overlay",
              "size": 10,
              "solidity": 0.2
             }
            },
            "type": "bar"
           }
          ],
          "barpolar": [
           {
            "marker": {
             "line": {
              "color": "#E5ECF6",
              "width": 0.5
             },
             "pattern": {
              "fillmode": "overlay",
              "size": 10,
              "solidity": 0.2
             }
            },
            "type": "barpolar"
           }
          ],
          "carpet": [
           {
            "aaxis": {
             "endlinecolor": "#2a3f5f",
             "gridcolor": "white",
             "linecolor": "white",
             "minorgridcolor": "white",
             "startlinecolor": "#2a3f5f"
            },
            "baxis": {
             "endlinecolor": "#2a3f5f",
             "gridcolor": "white",
             "linecolor": "white",
             "minorgridcolor": "white",
             "startlinecolor": "#2a3f5f"
            },
            "type": "carpet"
           }
          ],
          "choropleth": [
           {
            "colorbar": {
             "outlinewidth": 0,
             "ticks": ""
            },
            "type": "choropleth"
           }
          ],
          "contour": [
           {
            "colorbar": {
             "outlinewidth": 0,
             "ticks": ""
            },
            "colorscale": [
             [
              0,
              "#0d0887"
             ],
             [
              0.1111111111111111,
              "#46039f"
             ],
             [
              0.2222222222222222,
              "#7201a8"
             ],
             [
              0.3333333333333333,
              "#9c179e"
             ],
             [
              0.4444444444444444,
              "#bd3786"
             ],
             [
              0.5555555555555556,
              "#d8576b"
             ],
             [
              0.6666666666666666,
              "#ed7953"
             ],
             [
              0.7777777777777778,
              "#fb9f3a"
             ],
             [
              0.8888888888888888,
              "#fdca26"
             ],
             [
              1,
              "#f0f921"
             ]
            ],
            "type": "contour"
           }
          ],
          "contourcarpet": [
           {
            "colorbar": {
             "outlinewidth": 0,
             "ticks": ""
            },
            "type": "contourcarpet"
           }
          ],
          "heatmap": [
           {
            "colorbar": {
             "outlinewidth": 0,
             "ticks": ""
            },
            "colorscale": [
             [
              0,
              "#0d0887"
             ],
             [
              0.1111111111111111,
              "#46039f"
             ],
             [
              0.2222222222222222,
              "#7201a8"
             ],
             [
              0.3333333333333333,
              "#9c179e"
             ],
             [
              0.4444444444444444,
              "#bd3786"
             ],
             [
              0.5555555555555556,
              "#d8576b"
             ],
             [
              0.6666666666666666,
              "#ed7953"
             ],
             [
              0.7777777777777778,
              "#fb9f3a"
             ],
             [
              0.8888888888888888,
              "#fdca26"
             ],
             [
              1,
              "#f0f921"
             ]
            ],
            "type": "heatmap"
           }
          ],
          "heatmapgl": [
           {
            "colorbar": {
             "outlinewidth": 0,
             "ticks": ""
            },
            "colorscale": [
             [
              0,
              "#0d0887"
             ],
             [
              0.1111111111111111,
              "#46039f"
             ],
             [
              0.2222222222222222,
              "#7201a8"
             ],
             [
              0.3333333333333333,
              "#9c179e"
             ],
             [
              0.4444444444444444,
              "#bd3786"
             ],
             [
              0.5555555555555556,
              "#d8576b"
             ],
             [
              0.6666666666666666,
              "#ed7953"
             ],
             [
              0.7777777777777778,
              "#fb9f3a"
             ],
             [
              0.8888888888888888,
              "#fdca26"
             ],
             [
              1,
              "#f0f921"
             ]
            ],
            "type": "heatmapgl"
           }
          ],
          "histogram": [
           {
            "marker": {
             "pattern": {
              "fillmode": "overlay",
              "size": 10,
              "solidity": 0.2
             }
            },
            "type": "histogram"
           }
          ],
          "histogram2d": [
           {
            "colorbar": {
             "outlinewidth": 0,
             "ticks": ""
            },
            "colorscale": [
             [
              0,
              "#0d0887"
             ],
             [
              0.1111111111111111,
              "#46039f"
             ],
             [
              0.2222222222222222,
              "#7201a8"
             ],
             [
              0.3333333333333333,
              "#9c179e"
             ],
             [
              0.4444444444444444,
              "#bd3786"
             ],
             [
              0.5555555555555556,
              "#d8576b"
             ],
             [
              0.6666666666666666,
              "#ed7953"
             ],
             [
              0.7777777777777778,
              "#fb9f3a"
             ],
             [
              0.8888888888888888,
              "#fdca26"
             ],
             [
              1,
              "#f0f921"
             ]
            ],
            "type": "histogram2d"
           }
          ],
          "histogram2dcontour": [
           {
            "colorbar": {
             "outlinewidth": 0,
             "ticks": ""
            },
            "colorscale": [
             [
              0,
              "#0d0887"
             ],
             [
              0.1111111111111111,
              "#46039f"
             ],
             [
              0.2222222222222222,
              "#7201a8"
             ],
             [
              0.3333333333333333,
              "#9c179e"
             ],
             [
              0.4444444444444444,
              "#bd3786"
             ],
             [
              0.5555555555555556,
              "#d8576b"
             ],
             [
              0.6666666666666666,
              "#ed7953"
             ],
             [
              0.7777777777777778,
              "#fb9f3a"
             ],
             [
              0.8888888888888888,
              "#fdca26"
             ],
             [
              1,
              "#f0f921"
             ]
            ],
            "type": "histogram2dcontour"
           }
          ],
          "mesh3d": [
           {
            "colorbar": {
             "outlinewidth": 0,
             "ticks": ""
            },
            "type": "mesh3d"
           }
          ],
          "parcoords": [
           {
            "line": {
             "colorbar": {
              "outlinewidth": 0,
              "ticks": ""
             }
            },
            "type": "parcoords"
           }
          ],
          "pie": [
           {
            "automargin": true,
            "type": "pie"
           }
          ],
          "scatter": [
           {
            "fillpattern": {
             "fillmode": "overlay",
             "size": 10,
             "solidity": 0.2
            },
            "type": "scatter"
           }
          ],
          "scatter3d": [
           {
            "line": {
             "colorbar": {
              "outlinewidth": 0,
              "ticks": ""
             }
            },
            "marker": {
             "colorbar": {
              "outlinewidth": 0,
              "ticks": ""
             }
            },
            "type": "scatter3d"
           }
          ],
          "scattercarpet": [
           {
            "marker": {
             "colorbar": {
              "outlinewidth": 0,
              "ticks": ""
             }
            },
            "type": "scattercarpet"
           }
          ],
          "scattergeo": [
           {
            "marker": {
             "colorbar": {
              "outlinewidth": 0,
              "ticks": ""
             }
            },
            "type": "scattergeo"
           }
          ],
          "scattergl": [
           {
            "marker": {
             "colorbar": {
              "outlinewidth": 0,
              "ticks": ""
             }
            },
            "type": "scattergl"
           }
          ],
          "scattermapbox": [
           {
            "marker": {
             "colorbar": {
              "outlinewidth": 0,
              "ticks": ""
             }
            },
            "type": "scattermapbox"
           }
          ],
          "scatterpolar": [
           {
            "marker": {
             "colorbar": {
              "outlinewidth": 0,
              "ticks": ""
             }
            },
            "type": "scatterpolar"
           }
          ],
          "scatterpolargl": [
           {
            "marker": {
             "colorbar": {
              "outlinewidth": 0,
              "ticks": ""
             }
            },
            "type": "scatterpolargl"
           }
          ],
          "scatterternary": [
           {
            "marker": {
             "colorbar": {
              "outlinewidth": 0,
              "ticks": ""
             }
            },
            "type": "scatterternary"
           }
          ],
          "surface": [
           {
            "colorbar": {
             "outlinewidth": 0,
             "ticks": ""
            },
            "colorscale": [
             [
              0,
              "#0d0887"
             ],
             [
              0.1111111111111111,
              "#46039f"
             ],
             [
              0.2222222222222222,
              "#7201a8"
             ],
             [
              0.3333333333333333,
              "#9c179e"
             ],
             [
              0.4444444444444444,
              "#bd3786"
             ],
             [
              0.5555555555555556,
              "#d8576b"
             ],
             [
              0.6666666666666666,
              "#ed7953"
             ],
             [
              0.7777777777777778,
              "#fb9f3a"
             ],
             [
              0.8888888888888888,
              "#fdca26"
             ],
             [
              1,
              "#f0f921"
             ]
            ],
            "type": "surface"
           }
          ],
          "table": [
           {
            "cells": {
             "fill": {
              "color": "#EBF0F8"
             },
             "line": {
              "color": "white"
             }
            },
            "header": {
             "fill": {
              "color": "#C8D4E3"
             },
             "line": {
              "color": "white"
             }
            },
            "type": "table"
           }
          ]
         },
         "layout": {
          "annotationdefaults": {
           "arrowcolor": "#2a3f5f",
           "arrowhead": 0,
           "arrowwidth": 1
          },
          "autotypenumbers": "strict",
          "coloraxis": {
           "colorbar": {
            "outlinewidth": 0,
            "ticks": ""
           }
          },
          "colorscale": {
           "diverging": [
            [
             0,
             "#8e0152"
            ],
            [
             0.1,
             "#c51b7d"
            ],
            [
             0.2,
             "#de77ae"
            ],
            [
             0.3,
             "#f1b6da"
            ],
            [
             0.4,
             "#fde0ef"
            ],
            [
             0.5,
             "#f7f7f7"
            ],
            [
             0.6,
             "#e6f5d0"
            ],
            [
             0.7,
             "#b8e186"
            ],
            [
             0.8,
             "#7fbc41"
            ],
            [
             0.9,
             "#4d9221"
            ],
            [
             1,
             "#276419"
            ]
           ],
           "sequential": [
            [
             0,
             "#0d0887"
            ],
            [
             0.1111111111111111,
             "#46039f"
            ],
            [
             0.2222222222222222,
             "#7201a8"
            ],
            [
             0.3333333333333333,
             "#9c179e"
            ],
            [
             0.4444444444444444,
             "#bd3786"
            ],
            [
             0.5555555555555556,
             "#d8576b"
            ],
            [
             0.6666666666666666,
             "#ed7953"
            ],
            [
             0.7777777777777778,
             "#fb9f3a"
            ],
            [
             0.8888888888888888,
             "#fdca26"
            ],
            [
             1,
             "#f0f921"
            ]
           ],
           "sequentialminus": [
            [
             0,
             "#0d0887"
            ],
            [
             0.1111111111111111,
             "#46039f"
            ],
            [
             0.2222222222222222,
             "#7201a8"
            ],
            [
             0.3333333333333333,
             "#9c179e"
            ],
            [
             0.4444444444444444,
             "#bd3786"
            ],
            [
             0.5555555555555556,
             "#d8576b"
            ],
            [
             0.6666666666666666,
             "#ed7953"
            ],
            [
             0.7777777777777778,
             "#fb9f3a"
            ],
            [
             0.8888888888888888,
             "#fdca26"
            ],
            [
             1,
             "#f0f921"
            ]
           ]
          },
          "colorway": [
           "#636efa",
           "#EF553B",
           "#00cc96",
           "#ab63fa",
           "#FFA15A",
           "#19d3f3",
           "#FF6692",
           "#B6E880",
           "#FF97FF",
           "#FECB52"
          ],
          "font": {
           "color": "#2a3f5f"
          },
          "geo": {
           "bgcolor": "white",
           "lakecolor": "white",
           "landcolor": "#E5ECF6",
           "showlakes": true,
           "showland": true,
           "subunitcolor": "white"
          },
          "hoverlabel": {
           "align": "left"
          },
          "hovermode": "closest",
          "mapbox": {
           "style": "light"
          },
          "paper_bgcolor": "white",
          "plot_bgcolor": "#E5ECF6",
          "polar": {
           "angularaxis": {
            "gridcolor": "white",
            "linecolor": "white",
            "ticks": ""
           },
           "bgcolor": "#E5ECF6",
           "radialaxis": {
            "gridcolor": "white",
            "linecolor": "white",
            "ticks": ""
           }
          },
          "scene": {
           "xaxis": {
            "backgroundcolor": "#E5ECF6",
            "gridcolor": "white",
            "gridwidth": 2,
            "linecolor": "white",
            "showbackground": true,
            "ticks": "",
            "zerolinecolor": "white"
           },
           "yaxis": {
            "backgroundcolor": "#E5ECF6",
            "gridcolor": "white",
            "gridwidth": 2,
            "linecolor": "white",
            "showbackground": true,
            "ticks": "",
            "zerolinecolor": "white"
           },
           "zaxis": {
            "backgroundcolor": "#E5ECF6",
            "gridcolor": "white",
            "gridwidth": 2,
            "linecolor": "white",
            "showbackground": true,
            "ticks": "",
            "zerolinecolor": "white"
           }
          },
          "shapedefaults": {
           "line": {
            "color": "#2a3f5f"
           }
          },
          "ternary": {
           "aaxis": {
            "gridcolor": "white",
            "linecolor": "white",
            "ticks": ""
           },
           "baxis": {
            "gridcolor": "white",
            "linecolor": "white",
            "ticks": ""
           },
           "bgcolor": "#E5ECF6",
           "caxis": {
            "gridcolor": "white",
            "linecolor": "white",
            "ticks": ""
           }
          },
          "title": {
           "x": 0.05
          },
          "xaxis": {
           "automargin": true,
           "gridcolor": "white",
           "linecolor": "white",
           "ticks": "",
           "title": {
            "standoff": 15
           },
           "zerolinecolor": "white",
           "zerolinewidth": 2
          },
          "yaxis": {
           "automargin": true,
           "gridcolor": "white",
           "linecolor": "white",
           "ticks": "",
           "title": {
            "standoff": 15
           },
           "zerolinecolor": "white",
           "zerolinewidth": 2
          }
         }
        }
       }
      }
     },
     "metadata": {},
     "output_type": "display_data"
    }
   ],
   "source": [
    "F = 20\n",
    "fig = go.Figure()\n",
    "fig.add_trace(\n",
    "    go.Scatter3d(x=target_frames[:F, 0], y=target_frames[:F, 1], z=target_frames[:F, 2], name=\"Target\")\n",
    ").add_trace(\n",
    "    go.Scatter3d(x=predicted_frames[:F, 0], y=predicted_frames[:F, 1], z=predicted_frames[:F, 2], name=\"Predicted\")\n",
    ")\n",
    "fig.show()"
   ]
  }
 ],
 "metadata": {
  "kernelspec": {
   "display_name": "Python 3.9.12 ('base')",
   "language": "python",
   "name": "python3"
  },
  "language_info": {
   "codemirror_mode": {
    "name": "ipython",
    "version": 3
   },
   "file_extension": ".py",
   "mimetype": "text/x-python",
   "name": "python",
   "nbconvert_exporter": "python",
   "pygments_lexer": "ipython3",
   "version": "3.9.12"
  },
  "orig_nbformat": 4,
  "vscode": {
   "interpreter": {
    "hash": "3d597f4c481aa0f25dceb95d2a0067e73c0966dcbd003d741d821a7208527ecf"
   }
  }
 },
 "nbformat": 4,
 "nbformat_minor": 2
}
